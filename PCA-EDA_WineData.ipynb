{
 "cells": [
  {
   "cell_type": "markdown",
   "metadata": {},
   "source": []
  },
  {
   "cell_type": "markdown",
   "metadata": {},
   "source": []
  },
  {
   "cell_type": "markdown",
   "metadata": {},
   "source": [
    "##### In this project I am applying PCA to extract important features from Wine dataset that consists of several chemicals in 3 types of wines and then use it for classification. \n",
    "##### We are using only Logistic Regression here, we have to classify 3 classes of wines 'customer_segment' and extract the important features "
   ]
  },
  {
   "cell_type": "markdown",
   "metadata": {},
   "source": [
    "### Preparing the Dataset"
   ]
  },
  {
   "cell_type": "markdown",
   "metadata": {},
   "source": [
    "#### Importing the libraries"
   ]
  },
  {
   "cell_type": "code",
   "execution_count": 5,
   "metadata": {},
   "outputs": [],
   "source": [
    "# Import relevant libraries\n",
    "import numpy as np\n",
    "import pandas as pd\n",
    "import matplotlib.pyplot as plt\n",
    "import seaborn as sns\n",
    "from sklearn.linear_model import LogisticRegression\n",
    "from sklearn.svm import SVC\n",
    "from sklearn.tree import DecisionTreeClassifier"
   ]
  },
  {
   "cell_type": "markdown",
   "metadata": {},
   "source": [
    "#### Importing the dataset"
   ]
  },
  {
   "cell_type": "code",
   "execution_count": 6,
   "metadata": {},
   "outputs": [],
   "source": [
    "dataset = pd.read_csv('Wine1.csv')\n",
    "wine=dataset\n",
    "\n",
    "# Select a subset of the features for the purposes of this notebook\n",
    "wineSub = wine[['Customer_Segment','Alcohol','Malic_Acid','Magnesium','Flavanoids']]"
   ]
  },
  {
   "cell_type": "code",
   "execution_count": 7,
   "metadata": {},
   "outputs": [
    {
     "data": {
      "text/html": [
       "<div>\n",
       "<style scoped>\n",
       "    .dataframe tbody tr th:only-of-type {\n",
       "        vertical-align: middle;\n",
       "    }\n",
       "\n",
       "    .dataframe tbody tr th {\n",
       "        vertical-align: top;\n",
       "    }\n",
       "\n",
       "    .dataframe thead th {\n",
       "        text-align: right;\n",
       "    }\n",
       "</style>\n",
       "<table border=\"1\" class=\"dataframe\">\n",
       "  <thead>\n",
       "    <tr style=\"text-align: right;\">\n",
       "      <th></th>\n",
       "      <th>Alcohol</th>\n",
       "      <th>Malic_Acid</th>\n",
       "      <th>Ash</th>\n",
       "      <th>Ash_Alcanity</th>\n",
       "      <th>Magnesium</th>\n",
       "      <th>Total_Phenols</th>\n",
       "      <th>Flavanoids</th>\n",
       "      <th>Nonflavanoid_Phenols</th>\n",
       "      <th>Proanthocyanins</th>\n",
       "      <th>Color_Intensity</th>\n",
       "      <th>Hue</th>\n",
       "      <th>OD280</th>\n",
       "      <th>Proline</th>\n",
       "      <th>Customer_Segment</th>\n",
       "    </tr>\n",
       "  </thead>\n",
       "  <tbody>\n",
       "    <tr>\n",
       "      <th>0</th>\n",
       "      <td>14.23</td>\n",
       "      <td>1.71</td>\n",
       "      <td>2.43</td>\n",
       "      <td>15.6</td>\n",
       "      <td>127</td>\n",
       "      <td>2.80</td>\n",
       "      <td>3.06</td>\n",
       "      <td>0.28</td>\n",
       "      <td>2.29</td>\n",
       "      <td>5.64</td>\n",
       "      <td>1.04</td>\n",
       "      <td>3.92</td>\n",
       "      <td>1065</td>\n",
       "      <td>1</td>\n",
       "    </tr>\n",
       "    <tr>\n",
       "      <th>1</th>\n",
       "      <td>13.20</td>\n",
       "      <td>1.78</td>\n",
       "      <td>2.14</td>\n",
       "      <td>11.2</td>\n",
       "      <td>100</td>\n",
       "      <td>2.65</td>\n",
       "      <td>2.76</td>\n",
       "      <td>0.26</td>\n",
       "      <td>1.28</td>\n",
       "      <td>4.38</td>\n",
       "      <td>1.05</td>\n",
       "      <td>3.40</td>\n",
       "      <td>1050</td>\n",
       "      <td>1</td>\n",
       "    </tr>\n",
       "    <tr>\n",
       "      <th>2</th>\n",
       "      <td>13.16</td>\n",
       "      <td>2.36</td>\n",
       "      <td>2.67</td>\n",
       "      <td>18.6</td>\n",
       "      <td>101</td>\n",
       "      <td>2.80</td>\n",
       "      <td>3.24</td>\n",
       "      <td>0.30</td>\n",
       "      <td>2.81</td>\n",
       "      <td>5.68</td>\n",
       "      <td>1.03</td>\n",
       "      <td>3.17</td>\n",
       "      <td>1185</td>\n",
       "      <td>1</td>\n",
       "    </tr>\n",
       "    <tr>\n",
       "      <th>3</th>\n",
       "      <td>14.37</td>\n",
       "      <td>1.95</td>\n",
       "      <td>2.50</td>\n",
       "      <td>16.8</td>\n",
       "      <td>113</td>\n",
       "      <td>3.85</td>\n",
       "      <td>3.49</td>\n",
       "      <td>0.24</td>\n",
       "      <td>2.18</td>\n",
       "      <td>7.80</td>\n",
       "      <td>0.86</td>\n",
       "      <td>3.45</td>\n",
       "      <td>1480</td>\n",
       "      <td>1</td>\n",
       "    </tr>\n",
       "    <tr>\n",
       "      <th>4</th>\n",
       "      <td>13.24</td>\n",
       "      <td>2.59</td>\n",
       "      <td>2.87</td>\n",
       "      <td>21.0</td>\n",
       "      <td>118</td>\n",
       "      <td>2.80</td>\n",
       "      <td>2.69</td>\n",
       "      <td>0.39</td>\n",
       "      <td>1.82</td>\n",
       "      <td>4.32</td>\n",
       "      <td>1.04</td>\n",
       "      <td>2.93</td>\n",
       "      <td>735</td>\n",
       "      <td>1</td>\n",
       "    </tr>\n",
       "  </tbody>\n",
       "</table>\n",
       "</div>"
      ],
      "text/plain": [
       "   Alcohol  Malic_Acid   Ash  Ash_Alcanity  Magnesium  Total_Phenols  \\\n",
       "0    14.23        1.71  2.43          15.6        127           2.80   \n",
       "1    13.20        1.78  2.14          11.2        100           2.65   \n",
       "2    13.16        2.36  2.67          18.6        101           2.80   \n",
       "3    14.37        1.95  2.50          16.8        113           3.85   \n",
       "4    13.24        2.59  2.87          21.0        118           2.80   \n",
       "\n",
       "   Flavanoids  Nonflavanoid_Phenols  Proanthocyanins  Color_Intensity   Hue  \\\n",
       "0        3.06                  0.28             2.29             5.64  1.04   \n",
       "1        2.76                  0.26             1.28             4.38  1.05   \n",
       "2        3.24                  0.30             2.81             5.68  1.03   \n",
       "3        3.49                  0.24             2.18             7.80  0.86   \n",
       "4        2.69                  0.39             1.82             4.32  1.04   \n",
       "\n",
       "   OD280  Proline  Customer_Segment  \n",
       "0   3.92     1065                 1  \n",
       "1   3.40     1050                 1  \n",
       "2   3.17     1185                 1  \n",
       "3   3.45     1480                 1  \n",
       "4   2.93      735                 1  "
      ]
     },
     "execution_count": 7,
     "metadata": {},
     "output_type": "execute_result"
    }
   ],
   "source": [
    "wine.head(5)\n"
   ]
  },
  {
   "cell_type": "code",
   "execution_count": 8,
   "metadata": {},
   "outputs": [
    {
     "name": "stdout",
     "output_type": "stream",
     "text": [
      "Customer_Segment\n",
      "0    119\n",
      "1     59\n",
      "dtype: int64\n"
     ]
    },
    {
     "name": "stderr",
     "output_type": "stream",
     "text": [
      "/anaconda3/lib/python3.6/site-packages/pandas/core/indexing.py:543: SettingWithCopyWarning: \n",
      "A value is trying to be set on a copy of a slice from a DataFrame.\n",
      "Try using .loc[row_indexer,col_indexer] = value instead\n",
      "\n",
      "See the caveats in the documentation: http://pandas.pydata.org/pandas-docs/stable/indexing.html#indexing-view-versus-copy\n",
      "  self.obj[item] = s\n"
     ]
    }
   ],
   "source": [
    "# Encode wine class 1 as itself and all others as 0\n",
    "wineSub.loc[wineSub['Customer_Segment'] != 1, 'Customer_Segment'] = 0\n",
    "\n",
    "# Check the prevalence of class 1 within the dataset\n",
    "print(wineSub.groupby('Customer_Segment').size())"
   ]
  },
  {
   "cell_type": "code",
   "execution_count": null,
   "metadata": {},
   "outputs": [],
   "source": []
  },
  {
   "cell_type": "code",
   "execution_count": 9,
   "metadata": {},
   "outputs": [
    {
     "data": {
      "image/png": "[encoded data removed]",
      "text/plain": [
       "<Figure size 432x288 with 1 Axes>"
      ]
     },
     "metadata": {},
     "output_type": "display_data"
    }
   ],
   "source": [
    "# Select alcohol and flavanoids as candidate variables\n",
    "\n",
    "X1 = np.array(wineSub[['Alcohol','Flavanoids']])\n",
    "y1 = np.array(wineSub['Customer_Segment'])\n",
    "\n",
    "# Note DO NOT RESHAPE y TO HAVE MORE THAN 1 DIMENSION. OTHERWISE THE BELOW INDEXING WON'T WORK\n",
    "# \n",
    "plt.scatter(X1[y1 == 1, 0],X1[y1 == 1, 1],label='Class 1',marker='^',color='red')\n",
    "plt.scatter(X1[y1 == 0, 0],X1[y1 == 0, 1],label='Other classes',marker='*',color='blue')\n",
    "plt.xlabel('Alcohol')\n",
    "plt.ylabel('Flavanoids')\n",
    "plt.legend(loc='upper right')\n",
    "plt.show()"
   ]
  },
  {
   "cell_type": "code",
   "execution_count": 10,
   "metadata": {},
   "outputs": [
    {
     "data": {
      "image/png": "[encoded data removed]",
      "text/plain": [
       "<Figure size 432x288 with 1 Axes>"
      ]
     },
     "metadata": {},
     "output_type": "display_data"
    }
   ],
   "source": [
    "sns.kdeplot(X1[y1 == 1,0], label='Class 1 alcohol')\n",
    "sns.kdeplot(X1[y1 == 0,0], label='Other Classes alcohol')\n",
    "plt.title('Distribution across alcohol content')\n",
    "plt.xlabel('alcohol content')\n",
    "plt.show()"
   ]
  },
  {
   "cell_type": "code",
   "execution_count": 11,
   "metadata": {},
   "outputs": [
    {
     "data": {
      "image/png": "[encoded data removed]",
      "text/plain": [
       "<Figure size 432x288 with 1 Axes>"
      ]
     },
     "metadata": {},
     "output_type": "display_data"
    }
   ],
   "source": [
    "sns.kdeplot(X1[y1 == 1,1], label='Class 1 Flavanoids')\n",
    "sns.kdeplot(X1[y1 == 0,1], label='Other Classes flavanoids')\n",
    "plt.title('Distribution across flavanoid content')\n",
    "plt.xlabel('flavanoid content')\n",
    "plt.show()"
   ]
  },
  {
   "cell_type": "code",
   "execution_count": 12,
   "metadata": {},
   "outputs": [
    {
     "data": {
      "text/html": [
       "<div>\n",
       "<style scoped>\n",
       "    .dataframe tbody tr th:only-of-type {\n",
       "        vertical-align: middle;\n",
       "    }\n",
       "\n",
       "    .dataframe tbody tr th {\n",
       "        vertical-align: top;\n",
       "    }\n",
       "\n",
       "    .dataframe thead th {\n",
       "        text-align: right;\n",
       "    }\n",
       "</style>\n",
       "<table border=\"1\" class=\"dataframe\">\n",
       "  <thead>\n",
       "    <tr style=\"text-align: right;\">\n",
       "      <th></th>\n",
       "      <th>Alcohol</th>\n",
       "      <th>Malic_Acid</th>\n",
       "      <th>Ash</th>\n",
       "      <th>Ash_Alcanity</th>\n",
       "      <th>Magnesium</th>\n",
       "      <th>Total_Phenols</th>\n",
       "      <th>Flavanoids</th>\n",
       "      <th>Nonflavanoid_Phenols</th>\n",
       "      <th>Proanthocyanins</th>\n",
       "      <th>Color_Intensity</th>\n",
       "      <th>Hue</th>\n",
       "      <th>OD280</th>\n",
       "      <th>Proline</th>\n",
       "      <th>Customer_Segment</th>\n",
       "    </tr>\n",
       "  </thead>\n",
       "  <tbody>\n",
       "    <tr>\n",
       "      <th>0</th>\n",
       "      <td>14.23</td>\n",
       "      <td>1.71</td>\n",
       "      <td>2.43</td>\n",
       "      <td>15.6</td>\n",
       "      <td>127</td>\n",
       "      <td>2.80</td>\n",
       "      <td>3.06</td>\n",
       "      <td>0.28</td>\n",
       "      <td>2.29</td>\n",
       "      <td>5.64</td>\n",
       "      <td>1.04</td>\n",
       "      <td>3.92</td>\n",
       "      <td>1065</td>\n",
       "      <td>1</td>\n",
       "    </tr>\n",
       "    <tr>\n",
       "      <th>1</th>\n",
       "      <td>13.20</td>\n",
       "      <td>1.78</td>\n",
       "      <td>2.14</td>\n",
       "      <td>11.2</td>\n",
       "      <td>100</td>\n",
       "      <td>2.65</td>\n",
       "      <td>2.76</td>\n",
       "      <td>0.26</td>\n",
       "      <td>1.28</td>\n",
       "      <td>4.38</td>\n",
       "      <td>1.05</td>\n",
       "      <td>3.40</td>\n",
       "      <td>1050</td>\n",
       "      <td>1</td>\n",
       "    </tr>\n",
       "  </tbody>\n",
       "</table>\n",
       "</div>"
      ],
      "text/plain": [
       "   Alcohol  Malic_Acid   Ash  Ash_Alcanity  Magnesium  Total_Phenols  \\\n",
       "0    14.23        1.71  2.43          15.6        127           2.80   \n",
       "1    13.20        1.78  2.14          11.2        100           2.65   \n",
       "\n",
       "   Flavanoids  Nonflavanoid_Phenols  Proanthocyanins  Color_Intensity   Hue  \\\n",
       "0        3.06                  0.28             2.29             5.64  1.04   \n",
       "1        2.76                  0.26             1.28             4.38  1.05   \n",
       "\n",
       "   OD280  Proline  Customer_Segment  \n",
       "0   3.92     1065                 1  \n",
       "1   3.40     1050                 1  "
      ]
     },
     "execution_count": 12,
     "metadata": {},
     "output_type": "execute_result"
    }
   ],
   "source": [
    "dataset.head(2)"
   ]
  },
  {
   "cell_type": "code",
   "execution_count": 13,
   "metadata": {},
   "outputs": [
    {
     "data": {
      "text/plain": [
       "<seaborn.axisgrid.PairGrid at 0x10b6d4e10>"
      ]
     },
     "execution_count": 13,
     "metadata": {},
     "output_type": "execute_result"
    },
    {
     "data": {
      "image/png": "[encoded data removed]",
      "text/plain": [
       "<Figure size 1006x900 with 30 Axes>"
      ]
     },
     "metadata": {},
     "output_type": "display_data"
    }
   ],
   "source": [
    "\n",
    "\n",
    "# Plotting the variables against each other\n",
    "sns.pairplot(wineSub,hue='Customer_Segment')\n",
    "\n"
   ]
  },
  {
   "cell_type": "markdown",
   "metadata": {},
   "source": [
    "## Correlation Visualization"
   ]
  },
  {
   "cell_type": "code",
   "execution_count": 14,
   "metadata": {},
   "outputs": [
    {
     "data": {
      "text/html": [
       "<style  type=\"text/css\" >\n",
       "    #T_828d5b22_0c58_11e9_8f3a_9801a7b31bd3row0_col0 {\n",
       "            background-color:  #023858;\n",
       "        }    #T_828d5b22_0c58_11e9_8f3a_9801a7b31bd3row0_col1 {\n",
       "            background-color:  #94b6d7;\n",
       "        }    #T_828d5b22_0c58_11e9_8f3a_9801a7b31bd3row0_col2 {\n",
       "            background-color:  #cacee5;\n",
       "        }    #T_828d5b22_0c58_11e9_8f3a_9801a7b31bd3row0_col3 {\n",
       "            background-color:  #f1ebf5;\n",
       "        }    #T_828d5b22_0c58_11e9_8f3a_9801a7b31bd3row0_col4 {\n",
       "            background-color:  #94b6d7;\n",
       "        }    #T_828d5b22_0c58_11e9_8f3a_9801a7b31bd3row0_col5 {\n",
       "            background-color:  #4897c4;\n",
       "        }    #T_828d5b22_0c58_11e9_8f3a_9801a7b31bd3row0_col6 {\n",
       "            background-color:  #4897c4;\n",
       "        }    #T_828d5b22_0c58_11e9_8f3a_9801a7b31bd3row0_col7 {\n",
       "            background-color:  #d1d2e6;\n",
       "        }    #T_828d5b22_0c58_11e9_8f3a_9801a7b31bd3row0_col8 {\n",
       "            background-color:  #93b5d6;\n",
       "        }    #T_828d5b22_0c58_11e9_8f3a_9801a7b31bd3row0_col9 {\n",
       "            background-color:  #187cb6;\n",
       "        }    #T_828d5b22_0c58_11e9_8f3a_9801a7b31bd3row0_col10 {\n",
       "            background-color:  #b3c3de;\n",
       "        }    #T_828d5b22_0c58_11e9_8f3a_9801a7b31bd3row0_col11 {\n",
       "            background-color:  #7bacd1;\n",
       "        }    #T_828d5b22_0c58_11e9_8f3a_9801a7b31bd3row0_col12 {\n",
       "            background-color:  #056aa6;\n",
       "        }    #T_828d5b22_0c58_11e9_8f3a_9801a7b31bd3row0_col13 {\n",
       "            background-color:  #c6cce3;\n",
       "        }    #T_828d5b22_0c58_11e9_8f3a_9801a7b31bd3row1_col0 {\n",
       "            background-color:  #b9c6e0;\n",
       "        }    #T_828d5b22_0c58_11e9_8f3a_9801a7b31bd3row1_col1 {\n",
       "            background-color:  #023858;\n",
       "        }    #T_828d5b22_0c58_11e9_8f3a_9801a7b31bd3row1_col2 {\n",
       "            background-color:  #d7d6e9;\n",
       "        }    #T_828d5b22_0c58_11e9_8f3a_9801a7b31bd3row1_col3 {\n",
       "            background-color:  #71a8ce;\n",
       "        }    #T_828d5b22_0c58_11e9_8f3a_9801a7b31bd3row1_col4 {\n",
       "            background-color:  #e4e1ef;\n",
       "        }    #T_828d5b22_0c58_11e9_8f3a_9801a7b31bd3row1_col5 {\n",
       "            background-color:  #d6d6e9;\n",
       "        }    #T_828d5b22_0c58_11e9_8f3a_9801a7b31bd3row1_col6 {\n",
       "            background-color:  #d3d4e7;\n",
       "        }    #T_828d5b22_0c58_11e9_8f3a_9801a7b31bd3row1_col7 {\n",
       "            background-color:  #60a1ca;\n",
       "        }    #T_828d5b22_0c58_11e9_8f3a_9801a7b31bd3row1_col8 {\n",
       "            background-color:  #dfddec;\n",
       "        }    #T_828d5b22_0c58_11e9_8f3a_9801a7b31bd3row1_col9 {\n",
       "            background-color:  #71a8ce;\n",
       "        }    #T_828d5b22_0c58_11e9_8f3a_9801a7b31bd3row1_col10 {\n",
       "            background-color:  #faf3f9;\n",
       "        }    #T_828d5b22_0c58_11e9_8f3a_9801a7b31bd3row1_col11 {\n",
       "            background-color:  #d3d4e7;\n",
       "        }    #T_828d5b22_0c58_11e9_8f3a_9801a7b31bd3row1_col12 {\n",
       "            background-color:  #c9cee4;\n",
       "        }    #T_828d5b22_0c58_11e9_8f3a_9801a7b31bd3row1_col13 {\n",
       "            background-color:  #197db7;\n",
       "        }    #T_828d5b22_0c58_11e9_8f3a_9801a7b31bd3row2_col0 {\n",
       "            background-color:  #99b8d8;\n",
       "        }    #T_828d5b22_0c58_11e9_8f3a_9801a7b31bd3row2_col1 {\n",
       "            background-color:  #83afd3;\n",
       "        }    #T_828d5b22_0c58_11e9_8f3a_9801a7b31bd3row2_col2 {\n",
       "            background-color:  #023858;\n",
       "        }    #T_828d5b22_0c58_11e9_8f3a_9801a7b31bd3row2_col3 {\n",
       "            background-color:  #3b92c1;\n",
       "        }    #T_828d5b22_0c58_11e9_8f3a_9801a7b31bd3row2_col4 {\n",
       "            background-color:  #8fb4d6;\n",
       "        }    #T_828d5b22_0c58_11e9_8f3a_9801a7b31bd3row2_col5 {\n",
       "            background-color:  #76aad0;\n",
       "        }    #T_828d5b22_0c58_11e9_8f3a_9801a7b31bd3row2_col6 {\n",
       "            background-color:  #69a5cc;\n",
       "        }    #T_828d5b22_0c58_11e9_8f3a_9801a7b31bd3row2_col7 {\n",
       "            background-color:  #80aed2;\n",
       "        }    #T_828d5b22_0c58_11e9_8f3a_9801a7b31bd3row2_col8 {\n",
       "            background-color:  #b3c3de;\n",
       "        }    #T_828d5b22_0c58_11e9_8f3a_9801a7b31bd3row2_col9 {\n",
       "            background-color:  #6da6cd;\n",
       "        }    #T_828d5b22_0c58_11e9_8f3a_9801a7b31bd3row2_col10 {\n",
       "            background-color:  #b4c4df;\n",
       "        }    #T_828d5b22_0c58_11e9_8f3a_9801a7b31bd3row2_col11 {\n",
       "            background-color:  #8bb2d4;\n",
       "        }    #T_828d5b22_0c58_11e9_8f3a_9801a7b31bd3row2_col12 {\n",
       "            background-color:  #67a4cc;\n",
       "        }    #T_828d5b22_0c58_11e9_8f3a_9801a7b31bd3row2_col13 {\n",
       "            background-color:  #8fb4d6;\n",
       "        }    #T_828d5b22_0c58_11e9_8f3a_9801a7b31bd3row3_col0 {\n",
       "            background-color:  #fdf5fa;\n",
       "        }    #T_828d5b22_0c58_11e9_8f3a_9801a7b31bd3row3_col1 {\n",
       "            background-color:  #5ea0ca;\n",
       "        }    #T_828d5b22_0c58_11e9_8f3a_9801a7b31bd3row3_col2 {\n",
       "            background-color:  #7bacd1;\n",
       "        }    #T_828d5b22_0c58_11e9_8f3a_9801a7b31bd3row3_col3 {\n",
       "            background-color:  #023858;\n",
       "        }    #T_828d5b22_0c58_11e9_8f3a_9801a7b31bd3row3_col4 {\n",
       "            background-color:  #e9e5f1;\n",
       "        }    #T_828d5b22_0c58_11e9_8f3a_9801a7b31bd3row3_col5 {\n",
       "            background-color:  #d4d4e8;\n",
       "        }    #T_828d5b22_0c58_11e9_8f3a_9801a7b31bd3row3_col6 {\n",
       "            background-color:  #cacee5;\n",
       "        }    #T_828d5b22_0c58_11e9_8f3a_9801a7b31bd3row3_col7 {\n",
       "            background-color:  #4a98c5;\n",
       "        }    #T_828d5b22_0c58_11e9_8f3a_9801a7b31bd3row3_col8 {\n",
       "            background-color:  #dbdaeb;\n",
       "        }    #T_828d5b22_0c58_11e9_8f3a_9801a7b31bd3row3_col9 {\n",
       "            background-color:  #adc1dd;\n",
       "        }    #T_828d5b22_0c58_11e9_8f3a_9801a7b31bd3row3_col10 {\n",
       "            background-color:  #d9d8ea;\n",
       "        }    #T_828d5b22_0c58_11e9_8f3a_9801a7b31bd3row3_col11 {\n",
       "            background-color:  #c4cbe3;\n",
       "        }    #T_828d5b22_0c58_11e9_8f3a_9801a7b31bd3row3_col12 {\n",
       "            background-color:  #ede8f3;\n",
       "        }    #T_828d5b22_0c58_11e9_8f3a_9801a7b31bd3row3_col13 {\n",
       "            background-color:  #0872b1;\n",
       "        }    #T_828d5b22_0c58_11e9_8f3a_9801a7b31bd3row4_col0 {\n",
       "            background-color:  #88b1d4;\n",
       "        }    #T_828d5b22_0c58_11e9_8f3a_9801a7b31bd3row4_col1 {\n",
       "            background-color:  #b7c5df;\n",
       "        }    #T_828d5b22_0c58_11e9_8f3a_9801a7b31bd3row4_col2 {\n",
       "            background-color:  #b3c3de;\n",
       "        }    #T_828d5b22_0c58_11e9_8f3a_9801a7b31bd3row4_col3 {\n",
       "            background-color:  #d1d2e6;\n",
       "        }    #T_828d5b22_0c58_11e9_8f3a_9801a7b31bd3row4_col4 {\n",
       "            background-color:  #023858;\n",
       "        }    #T_828d5b22_0c58_11e9_8f3a_9801a7b31bd3row4_col5 {\n",
       "            background-color:  #5ea0ca;\n",
       "        }    #T_828d5b22_0c58_11e9_8f3a_9801a7b31bd3row4_col6 {\n",
       "            background-color:  #549cc7;\n",
       "        }    #T_828d5b22_0c58_11e9_8f3a_9801a7b31bd3row4_col7 {\n",
       "            background-color:  #e0dded;\n",
       "        }    #T_828d5b22_0c58_11e9_8f3a_9801a7b31bd3row4_col8 {\n",
       "            background-color:  #78abd0;\n",
       "        }    #T_828d5b22_0c58_11e9_8f3a_9801a7b31bd3row4_col9 {\n",
       "            background-color:  #7eadd1;\n",
       "        }    #T_828d5b22_0c58_11e9_8f3a_9801a7b31bd3row4_col10 {\n",
       "            background-color:  #96b6d7;\n",
       "        }    #T_828d5b22_0c58_11e9_8f3a_9801a7b31bd3row4_col11 {\n",
       "            background-color:  #7dacd1;\n",
       "        }    #T_828d5b22_0c58_11e9_8f3a_9801a7b31bd3row4_col12 {\n",
       "            background-color:  #358fc0;\n",
       "        }    #T_828d5b22_0c58_11e9_8f3a_9801a7b31bd3row4_col13 {\n",
       "            background-color:  #b0c2de;\n",
       "        }    #T_828d5b22_0c58_11e9_8f3a_9801a7b31bd3row5_col0 {\n",
       "            background-color:  #83afd3;\n",
       "        }    #T_828d5b22_0c58_11e9_8f3a_9801a7b31bd3row5_col1 {\n",
       "            background-color:  #e7e3f0;\n",
       "        }    #T_828d5b22_0c58_11e9_8f3a_9801a7b31bd3row5_col2 {\n",
       "            background-color:  #dedcec;\n",
       "        }    #T_828d5b22_0c58_11e9_8f3a_9801a7b31bd3row5_col3 {\n",
       "            background-color:  #f2ecf5;\n",
       "        }    #T_828d5b22_0c58_11e9_8f3a_9801a7b31bd3row5_col4 {\n",
       "            background-color:  #a7bddb;\n",
       "        }    #T_828d5b22_0c58_11e9_8f3a_9801a7b31bd3row5_col5 {\n",
       "            background-color:  #023858;\n",
       "        }    #T_828d5b22_0c58_11e9_8f3a_9801a7b31bd3row5_col6 {\n",
       "            background-color:  #034b76;\n",
       "        }    #T_828d5b22_0c58_11e9_8f3a_9801a7b31bd3row5_col7 {\n",
       "            background-color:  #f7f0f7;\n",
       "        }    #T_828d5b22_0c58_11e9_8f3a_9801a7b31bd3row5_col8 {\n",
       "            background-color:  #0872b1;\n",
       "        }    #T_828d5b22_0c58_11e9_8f3a_9801a7b31bd3row5_col9 {\n",
       "            background-color:  #bdc8e1;\n",
       "        }    #T_828d5b22_0c58_11e9_8f3a_9801a7b31bd3row5_col10 {\n",
       "            background-color:  #2c89bd;\n",
       "        }    #T_828d5b22_0c58_11e9_8f3a_9801a7b31bd3row5_col11 {\n",
       "            background-color:  #046198;\n",
       "        }    #T_828d5b22_0c58_11e9_8f3a_9801a7b31bd3row5_col12 {\n",
       "            background-color:  #1b7eb7;\n",
       "        }    #T_828d5b22_0c58_11e9_8f3a_9801a7b31bd3row5_col13 {\n",
       "            background-color:  #f5eef6;\n",
       "        }    #T_828d5b22_0c58_11e9_8f3a_9801a7b31bd3row6_col0 {\n",
       "            background-color:  #93b5d6;\n",
       "        }    #T_828d5b22_0c58_11e9_8f3a_9801a7b31bd3row6_col1 {\n",
       "            background-color:  #f1ebf4;\n",
       "        }    #T_828d5b22_0c58_11e9_8f3a_9801a7b31bd3row6_col2 {\n",
       "            background-color:  #e0deed;\n",
       "        }    #T_828d5b22_0c58_11e9_8f3a_9801a7b31bd3row6_col3 {\n",
       "            background-color:  #f6eff7;\n",
       "        }    #T_828d5b22_0c58_11e9_8f3a_9801a7b31bd3row6_col4 {\n",
       "            background-color:  #abbfdc;\n",
       "        }    #T_828d5b22_0c58_11e9_8f3a_9801a7b31bd3row6_col5 {\n",
       "            background-color:  #034d79;\n",
       "        }    #T_828d5b22_0c58_11e9_8f3a_9801a7b31bd3row6_col6 {\n",
       "            background-color:  #023858;\n",
       "        }    #T_828d5b22_0c58_11e9_8f3a_9801a7b31bd3row6_col7 {\n",
       "            background-color:  #fff7fb;\n",
       "        }    #T_828d5b22_0c58_11e9_8f3a_9801a7b31bd3row6_col8 {\n",
       "            background-color:  #056dab;\n",
       "        }    #T_828d5b22_0c58_11e9_8f3a_9801a7b31bd3row6_col9 {\n",
       "            background-color:  #d5d5e8;\n",
       "        }    #T_828d5b22_0c58_11e9_8f3a_9801a7b31bd3row6_col10 {\n",
       "            background-color:  #1278b4;\n",
       "        }    #T_828d5b22_0c58_11e9_8f3a_9801a7b31bd3row6_col11 {\n",
       "            background-color:  #04588a;\n",
       "        }    #T_828d5b22_0c58_11e9_8f3a_9801a7b31bd3row6_col12 {\n",
       "            background-color:  #1c7fb8;\n",
       "        }    #T_828d5b22_0c58_11e9_8f3a_9801a7b31bd3row6_col13 {\n",
       "            background-color:  #fff7fb;\n",
       "        }    #T_828d5b22_0c58_11e9_8f3a_9801a7b31bd3row7_col0 {\n",
       "            background-color:  #ebe6f2;\n",
       "        }    #T_828d5b22_0c58_11e9_8f3a_9801a7b31bd3row7_col1 {\n",
       "            background-color:  #5c9fc9;\n",
       "        }    #T_828d5b22_0c58_11e9_8f3a_9801a7b31bd3row7_col2 {\n",
       "            background-color:  #d2d2e7;\n",
       "        }    #T_828d5b22_0c58_11e9_8f3a_9801a7b31bd3row7_col3 {\n",
       "            background-color:  #589ec8;\n",
       "        }    #T_828d5b22_0c58_11e9_8f3a_9801a7b31bd3row7_col4 {\n",
       "            background-color:  #fff7fb;\n",
       "        }    #T_828d5b22_0c58_11e9_8f3a_9801a7b31bd3row7_col5 {\n",
       "            background-color:  #e5e1ef;\n",
       "        }    #T_828d5b22_0c58_11e9_8f3a_9801a7b31bd3row7_col6 {\n",
       "            background-color:  #e3e0ee;\n",
       "        }    #T_828d5b22_0c58_11e9_8f3a_9801a7b31bd3row7_col7 {\n",
       "            background-color:  #023858;\n",
       "        }    #T_828d5b22_0c58_11e9_8f3a_9801a7b31bd3row7_col8 {\n",
       "            background-color:  #f2ecf5;\n",
       "        }    #T_828d5b22_0c58_11e9_8f3a_9801a7b31bd3row7_col9 {\n",
       "            background-color:  #8eb3d5;\n",
       "        }    #T_828d5b22_0c58_11e9_8f3a_9801a7b31bd3row7_col10 {\n",
       "            background-color:  #d7d6e9;\n",
       "        }    #T_828d5b22_0c58_11e9_8f3a_9801a7b31bd3row7_col11 {\n",
       "            background-color:  #e5e1ef;\n",
       "        }    #T_828d5b22_0c58_11e9_8f3a_9801a7b31bd3row7_col12 {\n",
       "            background-color:  #dcdaeb;\n",
       "        }    #T_828d5b22_0c58_11e9_8f3a_9801a7b31bd3row7_col13 {\n",
       "            background-color:  #0f76b3;\n",
       "        }    #T_828d5b22_0c58_11e9_8f3a_9801a7b31bd3row8_col0 {\n",
       "            background-color:  #afc1dd;\n",
       "        }    #T_828d5b22_0c58_11e9_8f3a_9801a7b31bd3row8_col1 {\n",
       "            background-color:  #d8d7e9;\n",
       "        }    #T_828d5b22_0c58_11e9_8f3a_9801a7b31bd3row8_col2 {\n",
       "            background-color:  #f3edf5;\n",
       "        }    #T_828d5b22_0c58_11e9_8f3a_9801a7b31bd3row8_col3 {\n",
       "            background-color:  #e2dfee;\n",
       "        }    #T_828d5b22_0c58_11e9_8f3a_9801a7b31bd3row8_col4 {\n",
       "            background-color:  #9fbad9;\n",
       "        }    #T_828d5b22_0c58_11e9_8f3a_9801a7b31bd3row8_col5 {\n",
       "            background-color:  #056ba9;\n",
       "        }    #T_828d5b22_0c58_11e9_8f3a_9801a7b31bd3row8_col6 {\n",
       "            background-color:  #05659f;\n",
       "        }    #T_828d5b22_0c58_11e9_8f3a_9801a7b31bd3row8_col7 {\n",
       "            background-color:  #eee9f3;\n",
       "        }    #T_828d5b22_0c58_11e9_8f3a_9801a7b31bd3row8_col8 {\n",
       "            background-color:  #023858;\n",
       "        }    #T_828d5b22_0c58_11e9_8f3a_9801a7b31bd3row8_col9 {\n",
       "            background-color:  #b7c5df;\n",
       "        }    #T_828d5b22_0c58_11e9_8f3a_9801a7b31bd3row8_col10 {\n",
       "            background-color:  #549cc7;\n",
       "        }    #T_828d5b22_0c58_11e9_8f3a_9801a7b31bd3row8_col11 {\n",
       "            background-color:  #0c74b2;\n",
       "        }    #T_828d5b22_0c58_11e9_8f3a_9801a7b31bd3row8_col12 {\n",
       "            background-color:  #4697c4;\n",
       "        }    #T_828d5b22_0c58_11e9_8f3a_9801a7b31bd3row8_col13 {\n",
       "            background-color:  #dedcec;\n",
       "        }    #T_828d5b22_0c58_11e9_8f3a_9801a7b31bd3row9_col0 {\n",
       "            background-color:  #2987bc;\n",
       "        }    #T_828d5b22_0c58_11e9_8f3a_9801a7b31bd3row9_col1 {\n",
       "            background-color:  #6ba5cd;\n",
       "        }    #T_828d5b22_0c58_11e9_8f3a_9801a7b31bd3row9_col2 {\n",
       "            background-color:  #bcc7e1;\n",
       "        }    #T_828d5b22_0c58_11e9_8f3a_9801a7b31bd3row9_col3 {\n",
       "            background-color:  #b9c6e0;\n",
       "        }    #T_828d5b22_0c58_11e9_8f3a_9801a7b31bd3row9_col4 {\n",
       "            background-color:  #abbfdc;\n",
       "        }    #T_828d5b22_0c58_11e9_8f3a_9801a7b31bd3row9_col5 {\n",
       "            background-color:  #a2bcda;\n",
       "        }    #T_828d5b22_0c58_11e9_8f3a_9801a7b31bd3row9_col6 {\n",
       "            background-color:  #a9bfdc;\n",
       "        }    #T_828d5b22_0c58_11e9_8f3a_9801a7b31bd3row9_col7 {\n",
       "            background-color:  #8cb3d5;\n",
       "        }    #T_828d5b22_0c58_11e9_8f3a_9801a7b31bd3row9_col8 {\n",
       "            background-color:  #bbc7e0;\n",
       "        }    #T_828d5b22_0c58_11e9_8f3a_9801a7b31bd3row9_col9 {\n",
       "            background-color:  #023858;\n",
       "        }    #T_828d5b22_0c58_11e9_8f3a_9801a7b31bd3row9_col10 {\n",
       "            background-color:  #f6eff7;\n",
       "        }    #T_828d5b22_0c58_11e9_8f3a_9801a7b31bd3row9_col11 {\n",
       "            background-color:  #dbdaeb;\n",
       "        }    #T_828d5b22_0c58_11e9_8f3a_9801a7b31bd3row9_col12 {\n",
       "            background-color:  #4c99c5;\n",
       "        }    #T_828d5b22_0c58_11e9_8f3a_9801a7b31bd3row9_col13 {\n",
       "            background-color:  #4094c3;\n",
       "        }    #T_828d5b22_0c58_11e9_8f3a_9801a7b31bd3row10_col0 {\n",
       "            background-color:  #dddbec;\n",
       "        }    #T_828d5b22_0c58_11e9_8f3a_9801a7b31bd3row10_col1 {\n",
       "            background-color:  #fff7fb;\n",
       "        }    #T_828d5b22_0c58_11e9_8f3a_9801a7b31bd3row10_col2 {\n",
       "            background-color:  #fff7fb;\n",
       "        }    #T_828d5b22_0c58_11e9_8f3a_9801a7b31bd3row10_col3 {\n",
       "            background-color:  #eee8f3;\n",
       "        }    #T_828d5b22_0c58_11e9_8f3a_9801a7b31bd3row10_col4 {\n",
       "            background-color:  #d1d2e6;\n",
       "        }    #T_828d5b22_0c58_11e9_8f3a_9801a7b31bd3row10_col5 {\n",
       "            background-color:  #2484ba;\n",
       "        }    #T_828d5b22_0c58_11e9_8f3a_9801a7b31bd3row10_col6 {\n",
       "            background-color:  #056faf;\n",
       "        }    #T_828d5b22_0c58_11e9_8f3a_9801a7b31bd3row10_col7 {\n",
       "            background-color:  #e0deed;\n",
       "        }    #T_828d5b22_0c58_11e9_8f3a_9801a7b31bd3row10_col8 {\n",
       "            background-color:  #65a3cb;\n",
       "        }    #T_828d5b22_0c58_11e9_8f3a_9801a7b31bd3row10_col9 {\n",
       "            background-color:  #fff7fb;\n",
       "        }    #T_828d5b22_0c58_11e9_8f3a_9801a7b31bd3row10_col10 {\n",
       "            background-color:  #023858;\n",
       "        }    #T_828d5b22_0c58_11e9_8f3a_9801a7b31bd3row10_col11 {\n",
       "            background-color:  #056fae;\n",
       "        }    #T_828d5b22_0c58_11e9_8f3a_9801a7b31bd3row10_col12 {\n",
       "            background-color:  #63a2cb;\n",
       "        }    #T_828d5b22_0c58_11e9_8f3a_9801a7b31bd3row10_col13 {\n",
       "            background-color:  #ede7f2;\n",
       "        }    #T_828d5b22_0c58_11e9_8f3a_9801a7b31bd3row11_col0 {\n",
       "            background-color:  #bfc9e1;\n",
       "        }    #T_828d5b22_0c58_11e9_8f3a_9801a7b31bd3row11_col1 {\n",
       "            background-color:  #ede7f2;\n",
       "        }    #T_828d5b22_0c58_11e9_8f3a_9801a7b31bd3row11_col2 {\n",
       "            background-color:  #f4eef6;\n",
       "        }    #T_828d5b22_0c58_11e9_8f3a_9801a7b31bd3row11_col3 {\n",
       "            background-color:  #eee8f3;\n",
       "        }    #T_828d5b22_0c58_11e9_8f3a_9801a7b31bd3row11_col4 {\n",
       "            background-color:  #ced0e6;\n",
       "        }    #T_828d5b22_0c58_11e9_8f3a_9801a7b31bd3row11_col5 {\n",
       "            background-color:  #04629a;\n",
       "        }    #T_828d5b22_0c58_11e9_8f3a_9801a7b31bd3row11_col6 {\n",
       "            background-color:  #045788;\n",
       "        }    #T_828d5b22_0c58_11e9_8f3a_9801a7b31bd3row11_col7 {\n",
       "            background-color:  #fcf4fa;\n",
       "        }    #T_828d5b22_0c58_11e9_8f3a_9801a7b31bd3row11_col8 {\n",
       "            background-color:  #2182b9;\n",
       "        }    #T_828d5b22_0c58_11e9_8f3a_9801a7b31bd3row11_col9 {\n",
       "            background-color:  #f6eff7;\n",
       "        }    #T_828d5b22_0c58_11e9_8f3a_9801a7b31bd3row11_col10 {\n",
       "            background-color:  #0c74b2;\n",
       "        }    #T_828d5b22_0c58_11e9_8f3a_9801a7b31bd3row11_col11 {\n",
       "            background-color:  #023858;\n",
       "        }    #T_828d5b22_0c58_11e9_8f3a_9801a7b31bd3row11_col12 {\n",
       "            background-color:  #4c99c5;\n",
       "        }    #T_828d5b22_0c58_11e9_8f3a_9801a7b31bd3row11_col13 {\n",
       "            background-color:  #faf3f9;\n",
       "        }    #T_828d5b22_0c58_11e9_8f3a_9801a7b31bd3row12_col0 {\n",
       "            background-color:  #0c74b2;\n",
       "        }    #T_828d5b22_0c58_11e9_8f3a_9801a7b31bd3row12_col1 {\n",
       "            background-color:  #d3d4e7;\n",
       "        }    #T_828d5b22_0c58_11e9_8f3a_9801a7b31bd3row12_col2 {\n",
       "            background-color:  #c6cce3;\n",
       "        }    #T_828d5b22_0c58_11e9_8f3a_9801a7b31bd3row12_col3 {\n",
       "            background-color:  #fff7fb;\n",
       "        }    #T_828d5b22_0c58_11e9_8f3a_9801a7b31bd3row12_col4 {\n",
       "            background-color:  #6ba5cd;\n",
       "        }    #T_828d5b22_0c58_11e9_8f3a_9801a7b31bd3row12_col5 {\n",
       "            background-color:  #157ab5;\n",
       "        }    #T_828d5b22_0c58_11e9_8f3a_9801a7b31bd3row12_col6 {\n",
       "            background-color:  #0f76b3;\n",
       "        }    #T_828d5b22_0c58_11e9_8f3a_9801a7b31bd3row12_col7 {\n",
       "            background-color:  #e7e3f0;\n",
       "        }    #T_828d5b22_0c58_11e9_8f3a_9801a7b31bd3row12_col8 {\n",
       "            background-color:  #5a9ec9;\n",
       "        }    #T_828d5b22_0c58_11e9_8f3a_9801a7b31bd3row12_col9 {\n",
       "            background-color:  #5c9fc9;\n",
       "        }    #T_828d5b22_0c58_11e9_8f3a_9801a7b31bd3row12_col10 {\n",
       "            background-color:  #65a3cb;\n",
       "        }    #T_828d5b22_0c58_11e9_8f3a_9801a7b31bd3row12_col11 {\n",
       "            background-color:  #3b92c1;\n",
       "        }    #T_828d5b22_0c58_11e9_8f3a_9801a7b31bd3row12_col12 {\n",
       "            background-color:  #023858;\n",
       "        }    #T_828d5b22_0c58_11e9_8f3a_9801a7b31bd3row12_col13 {\n",
       "            background-color:  #eee8f3;\n",
       "        }    #T_828d5b22_0c58_11e9_8f3a_9801a7b31bd3row13_col0 {\n",
       "            background-color:  #fff7fb;\n",
       "        }    #T_828d5b22_0c58_11e9_8f3a_9801a7b31bd3row13_col1 {\n",
       "            background-color:  #308cbe;\n",
       "        }    #T_828d5b22_0c58_11e9_8f3a_9801a7b31bd3row13_col2 {\n",
       "            background-color:  #fcf4fa;\n",
       "        }    #T_828d5b22_0c58_11e9_8f3a_9801a7b31bd3row13_col3 {\n",
       "            background-color:  #2685bb;\n",
       "        }    #T_828d5b22_0c58_11e9_8f3a_9801a7b31bd3row13_col4 {\n",
       "            background-color:  #faf2f8;\n",
       "        }    #T_828d5b22_0c58_11e9_8f3a_9801a7b31bd3row13_col5 {\n",
       "            background-color:  #fff7fb;\n",
       "        }    #T_828d5b22_0c58_11e9_8f3a_9801a7b31bd3row13_col6 {\n",
       "            background-color:  #fff7fb;\n",
       "        }    #T_828d5b22_0c58_11e9_8f3a_9801a7b31bd3row13_col7 {\n",
       "            background-color:  #2685bb;\n",
       "        }    #T_828d5b22_0c58_11e9_8f3a_9801a7b31bd3row13_col8 {\n",
       "            background-color:  #fff7fb;\n",
       "        }    #T_828d5b22_0c58_11e9_8f3a_9801a7b31bd3row13_col9 {\n",
       "            background-color:  #6ba5cd;\n",
       "        }    #T_828d5b22_0c58_11e9_8f3a_9801a7b31bd3row13_col10 {\n",
       "            background-color:  #fff7fb;\n",
       "        }    #T_828d5b22_0c58_11e9_8f3a_9801a7b31bd3row13_col11 {\n",
       "            background-color:  #fff7fb;\n",
       "        }    #T_828d5b22_0c58_11e9_8f3a_9801a7b31bd3row13_col12 {\n",
       "            background-color:  #fff7fb;\n",
       "        }    #T_828d5b22_0c58_11e9_8f3a_9801a7b31bd3row13_col13 {\n",
       "            background-color:  #023858;\n",
       "        }</style>  \n",
       "<table id=\"T_828d5b22_0c58_11e9_8f3a_9801a7b31bd3\" > \n",
       "<thead>    <tr> \n",
       "        <th class=\"blank level0\" ></th> \n",
       "        <th class=\"col_heading level0 col0\" >Alcohol</th> \n",
       "        <th class=\"col_heading level0 col1\" >Malic_Acid</th> \n",
       "        <th class=\"col_heading level0 col2\" >Ash</th> \n",
       "        <th class=\"col_heading level0 col3\" >Ash_Alcanity</th> \n",
       "        <th class=\"col_heading level0 col4\" >Magnesium</th> \n",
       "        <th class=\"col_heading level0 col5\" >Total_Phenols</th> \n",
       "        <th class=\"col_heading level0 col6\" >Flavanoids</th> \n",
       "        <th class=\"col_heading level0 col7\" >Nonflavanoid_Phenols</th> \n",
       "        <th class=\"col_heading level0 col8\" >Proanthocyanins</th> \n",
       "        <th class=\"col_heading level0 col9\" >Color_Intensity</th> \n",
       "        <th class=\"col_heading level0 col10\" >Hue</th> \n",
       "        <th class=\"col_heading level0 col11\" >OD280</th> \n",
       "        <th class=\"col_heading level0 col12\" >Proline</th> \n",
       "        <th class=\"col_heading level0 col13\" >Customer_Segment</th> \n",
       "    </tr></thead> \n",
       "<tbody>    <tr> \n",
       "        <th id=\"T_828d5b22_0c58_11e9_8f3a_9801a7b31bd3level0_row0\" class=\"row_heading level0 row0\" >Alcohol</th> \n",
       "        <td id=\"T_828d5b22_0c58_11e9_8f3a_9801a7b31bd3row0_col0\" class=\"data row0 col0\" >1</td> \n",
       "        <td id=\"T_828d5b22_0c58_11e9_8f3a_9801a7b31bd3row0_col1\" class=\"data row0 col1\" >0.0943969</td> \n",
       "        <td id=\"T_828d5b22_0c58_11e9_8f3a_9801a7b31bd3row0_col2\" class=\"data row0 col2\" >0.211545</td> \n",
       "        <td id=\"T_828d5b22_0c58_11e9_8f3a_9801a7b31bd3row0_col3\" class=\"data row0 col3\" >-0.310235</td> \n",
       "        <td id=\"T_828d5b22_0c58_11e9_8f3a_9801a7b31bd3row0_col4\" class=\"data row0 col4\" >0.270798</td> \n",
       "        <td id=\"T_828d5b22_0c58_11e9_8f3a_9801a7b31bd3row0_col5\" class=\"data row0 col5\" >0.289101</td> \n",
       "        <td id=\"T_828d5b22_0c58_11e9_8f3a_9801a7b31bd3row0_col6\" class=\"data row0 col6\" >0.236815</td> \n",
       "        <td id=\"T_828d5b22_0c58_11e9_8f3a_9801a7b31bd3row0_col7\" class=\"data row0 col7\" >-0.155929</td> \n",
       "        <td id=\"T_828d5b22_0c58_11e9_8f3a_9801a7b31bd3row0_col8\" class=\"data row0 col8\" >0.136698</td> \n",
       "        <td id=\"T_828d5b22_0c58_11e9_8f3a_9801a7b31bd3row0_col9\" class=\"data row0 col9\" >0.546364</td> \n",
       "        <td id=\"T_828d5b22_0c58_11e9_8f3a_9801a7b31bd3row0_col10\" class=\"data row0 col10\" >-0.0717472</td> \n",
       "        <td id=\"T_828d5b22_0c58_11e9_8f3a_9801a7b31bd3row0_col11\" class=\"data row0 col11\" >0.0723432</td> \n",
       "        <td id=\"T_828d5b22_0c58_11e9_8f3a_9801a7b31bd3row0_col12\" class=\"data row0 col12\" >0.64372</td> \n",
       "        <td id=\"T_828d5b22_0c58_11e9_8f3a_9801a7b31bd3row0_col13\" class=\"data row0 col13\" >-0.328222</td> \n",
       "    </tr>    <tr> \n",
       "        <th id=\"T_828d5b22_0c58_11e9_8f3a_9801a7b31bd3level0_row1\" class=\"row_heading level0 row1\" >Malic_Acid</th> \n",
       "        <td id=\"T_828d5b22_0c58_11e9_8f3a_9801a7b31bd3row1_col0\" class=\"data row1 col0\" >0.0943969</td> \n",
       "        <td id=\"T_828d5b22_0c58_11e9_8f3a_9801a7b31bd3row1_col1\" class=\"data row1 col1\" >1</td> \n",
       "        <td id=\"T_828d5b22_0c58_11e9_8f3a_9801a7b31bd3row1_col2\" class=\"data row1 col2\" >0.164045</td> \n",
       "        <td id=\"T_828d5b22_0c58_11e9_8f3a_9801a7b31bd3row1_col3\" class=\"data row1 col3\" >0.2885</td> \n",
       "        <td id=\"T_828d5b22_0c58_11e9_8f3a_9801a7b31bd3row1_col4\" class=\"data row1 col4\" >-0.0545751</td> \n",
       "        <td id=\"T_828d5b22_0c58_11e9_8f3a_9801a7b31bd3row1_col5\" class=\"data row1 col5\" >-0.335167</td> \n",
       "        <td id=\"T_828d5b22_0c58_11e9_8f3a_9801a7b31bd3row1_col6\" class=\"data row1 col6\" >-0.411007</td> \n",
       "        <td id=\"T_828d5b22_0c58_11e9_8f3a_9801a7b31bd3row1_col7\" class=\"data row1 col7\" >0.292977</td> \n",
       "        <td id=\"T_828d5b22_0c58_11e9_8f3a_9801a7b31bd3row1_col8\" class=\"data row1 col8\" >-0.220746</td> \n",
       "        <td id=\"T_828d5b22_0c58_11e9_8f3a_9801a7b31bd3row1_col9\" class=\"data row1 col9\" >0.248985</td> \n",
       "        <td id=\"T_828d5b22_0c58_11e9_8f3a_9801a7b31bd3row1_col10\" class=\"data row1 col10\" >-0.561296</td> \n",
       "        <td id=\"T_828d5b22_0c58_11e9_8f3a_9801a7b31bd3row1_col11\" class=\"data row1 col11\" >-0.36871</td> \n",
       "        <td id=\"T_828d5b22_0c58_11e9_8f3a_9801a7b31bd3row1_col12\" class=\"data row1 col12\" >-0.192011</td> \n",
       "        <td id=\"T_828d5b22_0c58_11e9_8f3a_9801a7b31bd3row1_col13\" class=\"data row1 col13\" >0.437776</td> \n",
       "    </tr>    <tr> \n",
       "        <th id=\"T_828d5b22_0c58_11e9_8f3a_9801a7b31bd3level0_row2\" class=\"row_heading level0 row2\" >Ash</th> \n",
       "        <td id=\"T_828d5b22_0c58_11e9_8f3a_9801a7b31bd3row2_col0\" class=\"data row2 col0\" >0.211545</td> \n",
       "        <td id=\"T_828d5b22_0c58_11e9_8f3a_9801a7b31bd3row2_col1\" class=\"data row2 col1\" >0.164045</td> \n",
       "        <td id=\"T_828d5b22_0c58_11e9_8f3a_9801a7b31bd3row2_col2\" class=\"data row2 col2\" >1</td> \n",
       "        <td id=\"T_828d5b22_0c58_11e9_8f3a_9801a7b31bd3row2_col3\" class=\"data row2 col3\" >0.443367</td> \n",
       "        <td id=\"T_828d5b22_0c58_11e9_8f3a_9801a7b31bd3row2_col4\" class=\"data row2 col4\" >0.286587</td> \n",
       "        <td id=\"T_828d5b22_0c58_11e9_8f3a_9801a7b31bd3row2_col5\" class=\"data row2 col5\" >0.12898</td> \n",
       "        <td id=\"T_828d5b22_0c58_11e9_8f3a_9801a7b31bd3row2_col6\" class=\"data row2 col6\" >0.115077</td> \n",
       "        <td id=\"T_828d5b22_0c58_11e9_8f3a_9801a7b31bd3row2_col7\" class=\"data row2 col7\" >0.18623</td> \n",
       "        <td id=\"T_828d5b22_0c58_11e9_8f3a_9801a7b31bd3row2_col8\" class=\"data row2 col8\" >0.00965194</td> \n",
       "        <td id=\"T_828d5b22_0c58_11e9_8f3a_9801a7b31bd3row2_col9\" class=\"data row2 col9\" >0.258887</td> \n",
       "        <td id=\"T_828d5b22_0c58_11e9_8f3a_9801a7b31bd3row2_col10\" class=\"data row2 col10\" >-0.0746669</td> \n",
       "        <td id=\"T_828d5b22_0c58_11e9_8f3a_9801a7b31bd3row2_col11\" class=\"data row2 col11\" >0.00391123</td> \n",
       "        <td id=\"T_828d5b22_0c58_11e9_8f3a_9801a7b31bd3row2_col12\" class=\"data row2 col12\" >0.223626</td> \n",
       "        <td id=\"T_828d5b22_0c58_11e9_8f3a_9801a7b31bd3row2_col13\" class=\"data row2 col13\" >-0.0496432</td> \n",
       "    </tr>    <tr> \n",
       "        <th id=\"T_828d5b22_0c58_11e9_8f3a_9801a7b31bd3level0_row3\" class=\"row_heading level0 row3\" >Ash_Alcanity</th> \n",
       "        <td id=\"T_828d5b22_0c58_11e9_8f3a_9801a7b31bd3row3_col0\" class=\"data row3 col0\" >-0.310235</td> \n",
       "        <td id=\"T_828d5b22_0c58_11e9_8f3a_9801a7b31bd3row3_col1\" class=\"data row3 col1\" >0.2885</td> \n",
       "        <td id=\"T_828d5b22_0c58_11e9_8f3a_9801a7b31bd3row3_col2\" class=\"data row3 col2\" >0.443367</td> \n",
       "        <td id=\"T_828d5b22_0c58_11e9_8f3a_9801a7b31bd3row3_col3\" class=\"data row3 col3\" >1</td> \n",
       "        <td id=\"T_828d5b22_0c58_11e9_8f3a_9801a7b31bd3row3_col4\" class=\"data row3 col4\" >-0.0833331</td> \n",
       "        <td id=\"T_828d5b22_0c58_11e9_8f3a_9801a7b31bd3row3_col5\" class=\"data row3 col5\" >-0.321113</td> \n",
       "        <td id=\"T_828d5b22_0c58_11e9_8f3a_9801a7b31bd3row3_col6\" class=\"data row3 col6\" >-0.35137</td> \n",
       "        <td id=\"T_828d5b22_0c58_11e9_8f3a_9801a7b31bd3row3_col7\" class=\"data row3 col7\" >0.361922</td> \n",
       "        <td id=\"T_828d5b22_0c58_11e9_8f3a_9801a7b31bd3row3_col8\" class=\"data row3 col8\" >-0.197327</td> \n",
       "        <td id=\"T_828d5b22_0c58_11e9_8f3a_9801a7b31bd3row3_col9\" class=\"data row3 col9\" >0.018732</td> \n",
       "        <td id=\"T_828d5b22_0c58_11e9_8f3a_9801a7b31bd3row3_col10\" class=\"data row3 col10\" >-0.273955</td> \n",
       "        <td id=\"T_828d5b22_0c58_11e9_8f3a_9801a7b31bd3row3_col11\" class=\"data row3 col11\" >-0.276769</td> \n",
       "        <td id=\"T_828d5b22_0c58_11e9_8f3a_9801a7b31bd3row3_col12\" class=\"data row3 col12\" >-0.440597</td> \n",
       "        <td id=\"T_828d5b22_0c58_11e9_8f3a_9801a7b31bd3row3_col13\" class=\"data row3 col13\" >0.517859</td> \n",
       "    </tr>    <tr> \n",
       "        <th id=\"T_828d5b22_0c58_11e9_8f3a_9801a7b31bd3level0_row4\" class=\"row_heading level0 row4\" >Magnesium</th> \n",
       "        <td id=\"T_828d5b22_0c58_11e9_8f3a_9801a7b31bd3row4_col0\" class=\"data row4 col0\" >0.270798</td> \n",
       "        <td id=\"T_828d5b22_0c58_11e9_8f3a_9801a7b31bd3row4_col1\" class=\"data row4 col1\" >-0.0545751</td> \n",
       "        <td id=\"T_828d5b22_0c58_11e9_8f3a_9801a7b31bd3row4_col2\" class=\"data row4 col2\" >0.286587</td> \n",
       "        <td id=\"T_828d5b22_0c58_11e9_8f3a_9801a7b31bd3row4_col3\" class=\"data row4 col3\" >-0.0833331</td> \n",
       "        <td id=\"T_828d5b22_0c58_11e9_8f3a_9801a7b31bd3row4_col4\" class=\"data row4 col4\" >1</td> \n",
       "        <td id=\"T_828d5b22_0c58_11e9_8f3a_9801a7b31bd3row4_col5\" class=\"data row4 col5\" >0.214401</td> \n",
       "        <td id=\"T_828d5b22_0c58_11e9_8f3a_9801a7b31bd3row4_col6\" class=\"data row4 col6\" >0.195784</td> \n",
       "        <td id=\"T_828d5b22_0c58_11e9_8f3a_9801a7b31bd3row4_col7\" class=\"data row4 col7\" >-0.256294</td> \n",
       "        <td id=\"T_828d5b22_0c58_11e9_8f3a_9801a7b31bd3row4_col8\" class=\"data row4 col8\" >0.236441</td> \n",
       "        <td id=\"T_828d5b22_0c58_11e9_8f3a_9801a7b31bd3row4_col9\" class=\"data row4 col9\" >0.19995</td> \n",
       "        <td id=\"T_828d5b22_0c58_11e9_8f3a_9801a7b31bd3row4_col10\" class=\"data row4 col10\" >0.0553982</td> \n",
       "        <td id=\"T_828d5b22_0c58_11e9_8f3a_9801a7b31bd3row4_col11\" class=\"data row4 col11\" >0.0660039</td> \n",
       "        <td id=\"T_828d5b22_0c58_11e9_8f3a_9801a7b31bd3row4_col12\" class=\"data row4 col12\" >0.393351</td> \n",
       "        <td id=\"T_828d5b22_0c58_11e9_8f3a_9801a7b31bd3row4_col13\" class=\"data row4 col13\" >-0.209179</td> \n",
       "    </tr>    <tr> \n",
       "        <th id=\"T_828d5b22_0c58_11e9_8f3a_9801a7b31bd3level0_row5\" class=\"row_heading level0 row5\" >Total_Phenols</th> \n",
       "        <td id=\"T_828d5b22_0c58_11e9_8f3a_9801a7b31bd3row5_col0\" class=\"data row5 col0\" >0.289101</td> \n",
       "        <td id=\"T_828d5b22_0c58_11e9_8f3a_9801a7b31bd3row5_col1\" class=\"data row5 col1\" >-0.335167</td> \n",
       "        <td id=\"T_828d5b22_0c58_11e9_8f3a_9801a7b31bd3row5_col2\" class=\"data row5 col2\" >0.12898</td> \n",
       "        <td id=\"T_828d5b22_0c58_11e9_8f3a_9801a7b31bd3row5_col3\" class=\"data row5 col3\" >-0.321113</td> \n",
       "        <td id=\"T_828d5b22_0c58_11e9_8f3a_9801a7b31bd3row5_col4\" class=\"data row5 col4\" >0.214401</td> \n",
       "        <td id=\"T_828d5b22_0c58_11e9_8f3a_9801a7b31bd3row5_col5\" class=\"data row5 col5\" >1</td> \n",
       "        <td id=\"T_828d5b22_0c58_11e9_8f3a_9801a7b31bd3row5_col6\" class=\"data row5 col6\" >0.864564</td> \n",
       "        <td id=\"T_828d5b22_0c58_11e9_8f3a_9801a7b31bd3row5_col7\" class=\"data row5 col7\" >-0.449935</td> \n",
       "        <td id=\"T_828d5b22_0c58_11e9_8f3a_9801a7b31bd3row5_col8\" class=\"data row5 col8\" >0.612413</td> \n",
       "        <td id=\"T_828d5b22_0c58_11e9_8f3a_9801a7b31bd3row5_col9\" class=\"data row5 col9\" >-0.0551364</td> \n",
       "        <td id=\"T_828d5b22_0c58_11e9_8f3a_9801a7b31bd3row5_col10\" class=\"data row5 col10\" >0.433681</td> \n",
       "        <td id=\"T_828d5b22_0c58_11e9_8f3a_9801a7b31bd3row5_col11\" class=\"data row5 col11\" >0.699949</td> \n",
       "        <td id=\"T_828d5b22_0c58_11e9_8f3a_9801a7b31bd3row5_col12\" class=\"data row5 col12\" >0.498115</td> \n",
       "        <td id=\"T_828d5b22_0c58_11e9_8f3a_9801a7b31bd3row5_col13\" class=\"data row5 col13\" >-0.719163</td> \n",
       "    </tr>    <tr> \n",
       "        <th id=\"T_828d5b22_0c58_11e9_8f3a_9801a7b31bd3level0_row6\" class=\"row_heading level0 row6\" >Flavanoids</th> \n",
       "        <td id=\"T_828d5b22_0c58_11e9_8f3a_9801a7b31bd3row6_col0\" class=\"data row6 col0\" >0.236815</td> \n",
       "        <td id=\"T_828d5b22_0c58_11e9_8f3a_9801a7b31bd3row6_col1\" class=\"data row6 col1\" >-0.411007</td> \n",
       "        <td id=\"T_828d5b22_0c58_11e9_8f3a_9801a7b31bd3row6_col2\" class=\"data row6 col2\" >0.115077</td> \n",
       "        <td id=\"T_828d5b22_0c58_11e9_8f3a_9801a7b31bd3row6_col3\" class=\"data row6 col3\" >-0.35137</td> \n",
       "        <td id=\"T_828d5b22_0c58_11e9_8f3a_9801a7b31bd3row6_col4\" class=\"data row6 col4\" >0.195784</td> \n",
       "        <td id=\"T_828d5b22_0c58_11e9_8f3a_9801a7b31bd3row6_col5\" class=\"data row6 col5\" >0.864564</td> \n",
       "        <td id=\"T_828d5b22_0c58_11e9_8f3a_9801a7b31bd3row6_col6\" class=\"data row6 col6\" >1</td> \n",
       "        <td id=\"T_828d5b22_0c58_11e9_8f3a_9801a7b31bd3row6_col7\" class=\"data row6 col7\" >-0.5379</td> \n",
       "        <td id=\"T_828d5b22_0c58_11e9_8f3a_9801a7b31bd3row6_col8\" class=\"data row6 col8\" >0.652692</td> \n",
       "        <td id=\"T_828d5b22_0c58_11e9_8f3a_9801a7b31bd3row6_col9\" class=\"data row6 col9\" >-0.172379</td> \n",
       "        <td id=\"T_828d5b22_0c58_11e9_8f3a_9801a7b31bd3row6_col10\" class=\"data row6 col10\" >0.543479</td> \n",
       "        <td id=\"T_828d5b22_0c58_11e9_8f3a_9801a7b31bd3row6_col11\" class=\"data row6 col11\" >0.787194</td> \n",
       "        <td id=\"T_828d5b22_0c58_11e9_8f3a_9801a7b31bd3row6_col12\" class=\"data row6 col12\" >0.494193</td> \n",
       "        <td id=\"T_828d5b22_0c58_11e9_8f3a_9801a7b31bd3row6_col13\" class=\"data row6 col13\" >-0.847498</td> \n",
       "    </tr>    <tr> \n",
       "        <th id=\"T_828d5b22_0c58_11e9_8f3a_9801a7b31bd3level0_row7\" class=\"row_heading level0 row7\" >Nonflavanoid_Phenols</th> \n",
       "        <td id=\"T_828d5b22_0c58_11e9_8f3a_9801a7b31bd3row7_col0\" class=\"data row7 col0\" >-0.155929</td> \n",
       "        <td id=\"T_828d5b22_0c58_11e9_8f3a_9801a7b31bd3row7_col1\" class=\"data row7 col1\" >0.292977</td> \n",
       "        <td id=\"T_828d5b22_0c58_11e9_8f3a_9801a7b31bd3row7_col2\" class=\"data row7 col2\" >0.18623</td> \n",
       "        <td id=\"T_828d5b22_0c58_11e9_8f3a_9801a7b31bd3row7_col3\" class=\"data row7 col3\" >0.361922</td> \n",
       "        <td id=\"T_828d5b22_0c58_11e9_8f3a_9801a7b31bd3row7_col4\" class=\"data row7 col4\" >-0.256294</td> \n",
       "        <td id=\"T_828d5b22_0c58_11e9_8f3a_9801a7b31bd3row7_col5\" class=\"data row7 col5\" >-0.449935</td> \n",
       "        <td id=\"T_828d5b22_0c58_11e9_8f3a_9801a7b31bd3row7_col6\" class=\"data row7 col6\" >-0.5379</td> \n",
       "        <td id=\"T_828d5b22_0c58_11e9_8f3a_9801a7b31bd3row7_col7\" class=\"data row7 col7\" >1</td> \n",
       "        <td id=\"T_828d5b22_0c58_11e9_8f3a_9801a7b31bd3row7_col8\" class=\"data row7 col8\" >-0.365845</td> \n",
       "        <td id=\"T_828d5b22_0c58_11e9_8f3a_9801a7b31bd3row7_col9\" class=\"data row7 col9\" >0.139057</td> \n",
       "        <td id=\"T_828d5b22_0c58_11e9_8f3a_9801a7b31bd3row7_col10\" class=\"data row7 col10\" >-0.26264</td> \n",
       "        <td id=\"T_828d5b22_0c58_11e9_8f3a_9801a7b31bd3row7_col11\" class=\"data row7 col11\" >-0.50327</td> \n",
       "        <td id=\"T_828d5b22_0c58_11e9_8f3a_9801a7b31bd3row7_col12\" class=\"data row7 col12\" >-0.311385</td> \n",
       "        <td id=\"T_828d5b22_0c58_11e9_8f3a_9801a7b31bd3row7_col13\" class=\"data row7 col13\" >0.489109</td> \n",
       "    </tr>    <tr> \n",
       "        <th id=\"T_828d5b22_0c58_11e9_8f3a_9801a7b31bd3level0_row8\" class=\"row_heading level0 row8\" >Proanthocyanins</th> \n",
       "        <td id=\"T_828d5b22_0c58_11e9_8f3a_9801a7b31bd3row8_col0\" class=\"data row8 col0\" >0.136698</td> \n",
       "        <td id=\"T_828d5b22_0c58_11e9_8f3a_9801a7b31bd3row8_col1\" class=\"data row8 col1\" >-0.220746</td> \n",
       "        <td id=\"T_828d5b22_0c58_11e9_8f3a_9801a7b31bd3row8_col2\" class=\"data row8 col2\" >0.00965194</td> \n",
       "        <td id=\"T_828d5b22_0c58_11e9_8f3a_9801a7b31bd3row8_col3\" class=\"data row8 col3\" >-0.197327</td> \n",
       "        <td id=\"T_828d5b22_0c58_11e9_8f3a_9801a7b31bd3row8_col4\" class=\"data row8 col4\" >0.236441</td> \n",
       "        <td id=\"T_828d5b22_0c58_11e9_8f3a_9801a7b31bd3row8_col5\" class=\"data row8 col5\" >0.612413</td> \n",
       "        <td id=\"T_828d5b22_0c58_11e9_8f3a_9801a7b31bd3row8_col6\" class=\"data row8 col6\" >0.652692</td> \n",
       "        <td id=\"T_828d5b22_0c58_11e9_8f3a_9801a7b31bd3row8_col7\" class=\"data row8 col7\" >-0.365845</td> \n",
       "        <td id=\"T_828d5b22_0c58_11e9_8f3a_9801a7b31bd3row8_col8\" class=\"data row8 col8\" >1</td> \n",
       "        <td id=\"T_828d5b22_0c58_11e9_8f3a_9801a7b31bd3row8_col9\" class=\"data row8 col9\" >-0.0252499</td> \n",
       "        <td id=\"T_828d5b22_0c58_11e9_8f3a_9801a7b31bd3row8_col10\" class=\"data row8 col10\" >0.295544</td> \n",
       "        <td id=\"T_828d5b22_0c58_11e9_8f3a_9801a7b31bd3row8_col11\" class=\"data row8 col11\" >0.519067</td> \n",
       "        <td id=\"T_828d5b22_0c58_11e9_8f3a_9801a7b31bd3row8_col12\" class=\"data row8 col12\" >0.330417</td> \n",
       "        <td id=\"T_828d5b22_0c58_11e9_8f3a_9801a7b31bd3row8_col13\" class=\"data row8 col13\" >-0.49913</td> \n",
       "    </tr>    <tr> \n",
       "        <th id=\"T_828d5b22_0c58_11e9_8f3a_9801a7b31bd3level0_row9\" class=\"row_heading level0 row9\" >Color_Intensity</th> \n",
       "        <td id=\"T_828d5b22_0c58_11e9_8f3a_9801a7b31bd3row9_col0\" class=\"data row9 col0\" >0.546364</td> \n",
       "        <td id=\"T_828d5b22_0c58_11e9_8f3a_9801a7b31bd3row9_col1\" class=\"data row9 col1\" >0.248985</td> \n",
       "        <td id=\"T_828d5b22_0c58_11e9_8f3a_9801a7b31bd3row9_col2\" class=\"data row9 col2\" >0.258887</td> \n",
       "        <td id=\"T_828d5b22_0c58_11e9_8f3a_9801a7b31bd3row9_col3\" class=\"data row9 col3\" >0.018732</td> \n",
       "        <td id=\"T_828d5b22_0c58_11e9_8f3a_9801a7b31bd3row9_col4\" class=\"data row9 col4\" >0.19995</td> \n",
       "        <td id=\"T_828d5b22_0c58_11e9_8f3a_9801a7b31bd3row9_col5\" class=\"data row9 col5\" >-0.0551364</td> \n",
       "        <td id=\"T_828d5b22_0c58_11e9_8f3a_9801a7b31bd3row9_col6\" class=\"data row9 col6\" >-0.172379</td> \n",
       "        <td id=\"T_828d5b22_0c58_11e9_8f3a_9801a7b31bd3row9_col7\" class=\"data row9 col7\" >0.139057</td> \n",
       "        <td id=\"T_828d5b22_0c58_11e9_8f3a_9801a7b31bd3row9_col8\" class=\"data row9 col8\" >-0.0252499</td> \n",
       "        <td id=\"T_828d5b22_0c58_11e9_8f3a_9801a7b31bd3row9_col9\" class=\"data row9 col9\" >1</td> \n",
       "        <td id=\"T_828d5b22_0c58_11e9_8f3a_9801a7b31bd3row9_col10\" class=\"data row9 col10\" >-0.521813</td> \n",
       "        <td id=\"T_828d5b22_0c58_11e9_8f3a_9801a7b31bd3row9_col11\" class=\"data row9 col11\" >-0.428815</td> \n",
       "        <td id=\"T_828d5b22_0c58_11e9_8f3a_9801a7b31bd3row9_col12\" class=\"data row9 col12\" >0.3161</td> \n",
       "        <td id=\"T_828d5b22_0c58_11e9_8f3a_9801a7b31bd3row9_col13\" class=\"data row9 col13\" >0.265668</td> \n",
       "    </tr>    <tr> \n",
       "        <th id=\"T_828d5b22_0c58_11e9_8f3a_9801a7b31bd3level0_row10\" class=\"row_heading level0 row10\" >Hue</th> \n",
       "        <td id=\"T_828d5b22_0c58_11e9_8f3a_9801a7b31bd3row10_col0\" class=\"data row10 col0\" >-0.0717472</td> \n",
       "        <td id=\"T_828d5b22_0c58_11e9_8f3a_9801a7b31bd3row10_col1\" class=\"data row10 col1\" >-0.561296</td> \n",
       "        <td id=\"T_828d5b22_0c58_11e9_8f3a_9801a7b31bd3row10_col2\" class=\"data row10 col2\" >-0.0746669</td> \n",
       "        <td id=\"T_828d5b22_0c58_11e9_8f3a_9801a7b31bd3row10_col3\" class=\"data row10 col3\" >-0.273955</td> \n",
       "        <td id=\"T_828d5b22_0c58_11e9_8f3a_9801a7b31bd3row10_col4\" class=\"data row10 col4\" >0.0553982</td> \n",
       "        <td id=\"T_828d5b22_0c58_11e9_8f3a_9801a7b31bd3row10_col5\" class=\"data row10 col5\" >0.433681</td> \n",
       "        <td id=\"T_828d5b22_0c58_11e9_8f3a_9801a7b31bd3row10_col6\" class=\"data row10 col6\" >0.543479</td> \n",
       "        <td id=\"T_828d5b22_0c58_11e9_8f3a_9801a7b31bd3row10_col7\" class=\"data row10 col7\" >-0.26264</td> \n",
       "        <td id=\"T_828d5b22_0c58_11e9_8f3a_9801a7b31bd3row10_col8\" class=\"data row10 col8\" >0.295544</td> \n",
       "        <td id=\"T_828d5b22_0c58_11e9_8f3a_9801a7b31bd3row10_col9\" class=\"data row10 col9\" >-0.521813</td> \n",
       "        <td id=\"T_828d5b22_0c58_11e9_8f3a_9801a7b31bd3row10_col10\" class=\"data row10 col10\" >1</td> \n",
       "        <td id=\"T_828d5b22_0c58_11e9_8f3a_9801a7b31bd3row10_col11\" class=\"data row10 col11\" >0.565468</td> \n",
       "        <td id=\"T_828d5b22_0c58_11e9_8f3a_9801a7b31bd3row10_col12\" class=\"data row10 col12\" >0.236183</td> \n",
       "        <td id=\"T_828d5b22_0c58_11e9_8f3a_9801a7b31bd3row10_col13\" class=\"data row10 col13\" >-0.617369</td> \n",
       "    </tr>    <tr> \n",
       "        <th id=\"T_828d5b22_0c58_11e9_8f3a_9801a7b31bd3level0_row11\" class=\"row_heading level0 row11\" >OD280</th> \n",
       "        <td id=\"T_828d5b22_0c58_11e9_8f3a_9801a7b31bd3row11_col0\" class=\"data row11 col0\" >0.0723432</td> \n",
       "        <td id=\"T_828d5b22_0c58_11e9_8f3a_9801a7b31bd3row11_col1\" class=\"data row11 col1\" >-0.36871</td> \n",
       "        <td id=\"T_828d5b22_0c58_11e9_8f3a_9801a7b31bd3row11_col2\" class=\"data row11 col2\" >0.00391123</td> \n",
       "        <td id=\"T_828d5b22_0c58_11e9_8f3a_9801a7b31bd3row11_col3\" class=\"data row11 col3\" >-0.276769</td> \n",
       "        <td id=\"T_828d5b22_0c58_11e9_8f3a_9801a7b31bd3row11_col4\" class=\"data row11 col4\" >0.0660039</td> \n",
       "        <td id=\"T_828d5b22_0c58_11e9_8f3a_9801a7b31bd3row11_col5\" class=\"data row11 col5\" >0.699949</td> \n",
       "        <td id=\"T_828d5b22_0c58_11e9_8f3a_9801a7b31bd3row11_col6\" class=\"data row11 col6\" >0.787194</td> \n",
       "        <td id=\"T_828d5b22_0c58_11e9_8f3a_9801a7b31bd3row11_col7\" class=\"data row11 col7\" >-0.50327</td> \n",
       "        <td id=\"T_828d5b22_0c58_11e9_8f3a_9801a7b31bd3row11_col8\" class=\"data row11 col8\" >0.519067</td> \n",
       "        <td id=\"T_828d5b22_0c58_11e9_8f3a_9801a7b31bd3row11_col9\" class=\"data row11 col9\" >-0.428815</td> \n",
       "        <td id=\"T_828d5b22_0c58_11e9_8f3a_9801a7b31bd3row11_col10\" class=\"data row11 col10\" >0.565468</td> \n",
       "        <td id=\"T_828d5b22_0c58_11e9_8f3a_9801a7b31bd3row11_col11\" class=\"data row11 col11\" >1</td> \n",
       "        <td id=\"T_828d5b22_0c58_11e9_8f3a_9801a7b31bd3row11_col12\" class=\"data row11 col12\" >0.312761</td> \n",
       "        <td id=\"T_828d5b22_0c58_11e9_8f3a_9801a7b31bd3row11_col13\" class=\"data row11 col13\" >-0.78823</td> \n",
       "    </tr>    <tr> \n",
       "        <th id=\"T_828d5b22_0c58_11e9_8f3a_9801a7b31bd3level0_row12\" class=\"row_heading level0 row12\" >Proline</th> \n",
       "        <td id=\"T_828d5b22_0c58_11e9_8f3a_9801a7b31bd3row12_col0\" class=\"data row12 col0\" >0.64372</td> \n",
       "        <td id=\"T_828d5b22_0c58_11e9_8f3a_9801a7b31bd3row12_col1\" class=\"data row12 col1\" >-0.192011</td> \n",
       "        <td id=\"T_828d5b22_0c58_11e9_8f3a_9801a7b31bd3row12_col2\" class=\"data row12 col2\" >0.223626</td> \n",
       "        <td id=\"T_828d5b22_0c58_11e9_8f3a_9801a7b31bd3row12_col3\" class=\"data row12 col3\" >-0.440597</td> \n",
       "        <td id=\"T_828d5b22_0c58_11e9_8f3a_9801a7b31bd3row12_col4\" class=\"data row12 col4\" >0.393351</td> \n",
       "        <td id=\"T_828d5b22_0c58_11e9_8f3a_9801a7b31bd3row12_col5\" class=\"data row12 col5\" >0.498115</td> \n",
       "        <td id=\"T_828d5b22_0c58_11e9_8f3a_9801a7b31bd3row12_col6\" class=\"data row12 col6\" >0.494193</td> \n",
       "        <td id=\"T_828d5b22_0c58_11e9_8f3a_9801a7b31bd3row12_col7\" class=\"data row12 col7\" >-0.311385</td> \n",
       "        <td id=\"T_828d5b22_0c58_11e9_8f3a_9801a7b31bd3row12_col8\" class=\"data row12 col8\" >0.330417</td> \n",
       "        <td id=\"T_828d5b22_0c58_11e9_8f3a_9801a7b31bd3row12_col9\" class=\"data row12 col9\" >0.3161</td> \n",
       "        <td id=\"T_828d5b22_0c58_11e9_8f3a_9801a7b31bd3row12_col10\" class=\"data row12 col10\" >0.236183</td> \n",
       "        <td id=\"T_828d5b22_0c58_11e9_8f3a_9801a7b31bd3row12_col11\" class=\"data row12 col11\" >0.312761</td> \n",
       "        <td id=\"T_828d5b22_0c58_11e9_8f3a_9801a7b31bd3row12_col12\" class=\"data row12 col12\" >1</td> \n",
       "        <td id=\"T_828d5b22_0c58_11e9_8f3a_9801a7b31bd3row12_col13\" class=\"data row12 col13\" >-0.633717</td> \n",
       "    </tr>    <tr> \n",
       "        <th id=\"T_828d5b22_0c58_11e9_8f3a_9801a7b31bd3level0_row13\" class=\"row_heading level0 row13\" >Customer_Segment</th> \n",
       "        <td id=\"T_828d5b22_0c58_11e9_8f3a_9801a7b31bd3row13_col0\" class=\"data row13 col0\" >-0.328222</td> \n",
       "        <td id=\"T_828d5b22_0c58_11e9_8f3a_9801a7b31bd3row13_col1\" class=\"data row13 col1\" >0.437776</td> \n",
       "        <td id=\"T_828d5b22_0c58_11e9_8f3a_9801a7b31bd3row13_col2\" class=\"data row13 col2\" >-0.0496432</td> \n",
       "        <td id=\"T_828d5b22_0c58_11e9_8f3a_9801a7b31bd3row13_col3\" class=\"data row13 col3\" >0.517859</td> \n",
       "        <td id=\"T_828d5b22_0c58_11e9_8f3a_9801a7b31bd3row13_col4\" class=\"data row13 col4\" >-0.209179</td> \n",
       "        <td id=\"T_828d5b22_0c58_11e9_8f3a_9801a7b31bd3row13_col5\" class=\"data row13 col5\" >-0.719163</td> \n",
       "        <td id=\"T_828d5b22_0c58_11e9_8f3a_9801a7b31bd3row13_col6\" class=\"data row13 col6\" >-0.847498</td> \n",
       "        <td id=\"T_828d5b22_0c58_11e9_8f3a_9801a7b31bd3row13_col7\" class=\"data row13 col7\" >0.489109</td> \n",
       "        <td id=\"T_828d5b22_0c58_11e9_8f3a_9801a7b31bd3row13_col8\" class=\"data row13 col8\" >-0.49913</td> \n",
       "        <td id=\"T_828d5b22_0c58_11e9_8f3a_9801a7b31bd3row13_col9\" class=\"data row13 col9\" >0.265668</td> \n",
       "        <td id=\"T_828d5b22_0c58_11e9_8f3a_9801a7b31bd3row13_col10\" class=\"data row13 col10\" >-0.617369</td> \n",
       "        <td id=\"T_828d5b22_0c58_11e9_8f3a_9801a7b31bd3row13_col11\" class=\"data row13 col11\" >-0.78823</td> \n",
       "        <td id=\"T_828d5b22_0c58_11e9_8f3a_9801a7b31bd3row13_col12\" class=\"data row13 col12\" >-0.633717</td> \n",
       "        <td id=\"T_828d5b22_0c58_11e9_8f3a_9801a7b31bd3row13_col13\" class=\"data row13 col13\" >1</td> \n",
       "    </tr></tbody> \n",
       "</table> "
      ],
      "text/plain": [
       "<pandas.io.formats.style.Styler at 0x1a18495748>"
      ]
     },
     "execution_count": 14,
     "metadata": {},
     "output_type": "execute_result"
    }
   ],
   "source": [
    "corr1 = dataset.corr()\n",
    "corr1.style.background_gradient()"
   ]
  },
  {
   "cell_type": "markdown",
   "metadata": {},
   "source": [
    "## Let's do some Plots"
   ]
  },
  {
   "cell_type": "code",
   "execution_count": 15,
   "metadata": {},
   "outputs": [
    {
     "data": {
      "text/plain": [
       "<matplotlib.axes._subplots.AxesSubplot at 0x1a18ef1ba8>"
      ]
     },
     "execution_count": 15,
     "metadata": {},
     "output_type": "execute_result"
    },
    {
     "data": {
      "image/png": "[encoded data removed]",
      "text/plain": [
       "<Figure size 432x288 with 1 Axes>"
      ]
     },
     "metadata": {},
     "output_type": "display_data"
    }
   ],
   "source": [
    "import seaborn as sns\n",
    "\n",
    "sns.countplot(dataset['Customer_Segment'])"
   ]
  },
  {
   "cell_type": "code",
   "execution_count": 16,
   "metadata": {},
   "outputs": [
    {
     "data": {
      "text/plain": [
       "<matplotlib.axes._subplots.AxesSubplot at 0x1a18f25e48>"
      ]
     },
     "execution_count": 16,
     "metadata": {},
     "output_type": "execute_result"
    },
    {
     "data": {
      "image/png": "[encoded data removed]",
      "text/plain": [
       "<Figure size 720x432 with 1 Axes>"
      ]
     },
     "metadata": {},
     "output_type": "display_data"
    }
   ],
   "source": [
    "#Here we see that its quite a downing trend in the Flavanoids as we go higher the quality \n",
    "fig = plt.figure(figsize = (10,6))\n",
    "sns.barplot(x = 'Customer_Segment', y = 'Flavanoids', data = dataset)"
   ]
  },
  {
   "cell_type": "code",
   "execution_count": 17,
   "metadata": {},
   "outputs": [
    {
     "data": {
      "text/plain": [
       "<matplotlib.axes._subplots.AxesSubplot at 0x1a19000a20>"
      ]
     },
     "execution_count": 17,
     "metadata": {},
     "output_type": "execute_result"
    },
    {
     "data": {
      "image/png": "[encoded data removed]",
      "text/plain": [
       "<Figure size 720x432 with 1 Axes>"
      ]
     },
     "metadata": {},
     "output_type": "display_data"
    }
   ],
   "source": [
    "#Here we see that its quite a increasing trend in the Non-Flavanoids as we go higher the quality \n",
    "fig = plt.figure(figsize = (10,6))\n",
    "sns.barplot(x = 'Customer_Segment', y = 'Nonflavanoid_Phenols', data = dataset)"
   ]
  },
  {
   "cell_type": "code",
   "execution_count": 18,
   "metadata": {},
   "outputs": [
    {
     "data": {
      "text/plain": [
       "<matplotlib.axes._subplots.AxesSubplot at 0x1a183f8f98>"
      ]
     },
     "execution_count": 18,
     "metadata": {},
     "output_type": "execute_result"
    },
    {
     "data": {
      "image/png": "[encoded data removed]",
      "text/plain": [
       "<Figure size 720x432 with 1 Axes>"
      ]
     },
     "metadata": {},
     "output_type": "display_data"
    }
   ],
   "source": [
    "#Here we see that its quite a downing trend in the Hue as we go to different Customer Segments but no effect to type 1 and 2\n",
    "fig = plt.figure(figsize = (10,6))\n",
    "sns.barplot(x = 'Customer_Segment', y = 'Hue', data = dataset)"
   ]
  },
  {
   "cell_type": "code",
   "execution_count": 19,
   "metadata": {},
   "outputs": [],
   "source": [
    "X = dataset.iloc[:, 0:13].values  #Explanatory variables\n",
    "y = dataset.iloc[:, 13].values  #Target variable"
   ]
  },
  {
   "cell_type": "code",
   "execution_count": 20,
   "metadata": {},
   "outputs": [
    {
     "data": {
      "text/plain": [
       "array([[1.423e+01, 1.710e+00, 2.430e+00, 1.560e+01, 1.270e+02, 2.800e+00,\n",
       "        3.060e+00, 2.800e-01, 2.290e+00, 5.640e+00, 1.040e+00, 3.920e+00,\n",
       "        1.065e+03],\n",
       "       [1.320e+01, 1.780e+00, 2.140e+00, 1.120e+01, 1.000e+02, 2.650e+00,\n",
       "        2.760e+00, 2.600e-01, 1.280e+00, 4.380e+00, 1.050e+00, 3.400e+00,\n",
       "        1.050e+03]])"
      ]
     },
     "execution_count": 20,
     "metadata": {},
     "output_type": "execute_result"
    }
   ],
   "source": [
    "X[0:2]"
   ]
  },
  {
   "cell_type": "code",
   "execution_count": 21,
   "metadata": {},
   "outputs": [
    {
     "data": {
      "text/plain": [
       "array([1, 1])"
      ]
     },
     "execution_count": 21,
     "metadata": {},
     "output_type": "execute_result"
    }
   ],
   "source": [
    "y[0:2]"
   ]
  },
  {
   "cell_type": "markdown",
   "metadata": {},
   "source": [
    "### Feature Engineering"
   ]
  },
  {
   "cell_type": "markdown",
   "metadata": {},
   "source": [
    "#### Feature Scaling"
   ]
  },
  {
   "cell_type": "code",
   "execution_count": 22,
   "metadata": {},
   "outputs": [],
   "source": [
    "from sklearn.preprocessing import StandardScaler\n",
    "sc = StandardScaler()\n",
    "X = sc.fit_transform(X)"
   ]
  },
  {
   "cell_type": "code",
   "execution_count": 23,
   "metadata": {},
   "outputs": [
    {
     "data": {
      "text/plain": [
       "array([[ 1.51861254, -0.5622498 ,  0.23205254, -1.16959318,  1.91390522,\n",
       "         0.80899739,  1.03481896, -0.65956311,  1.22488398,  0.25171685,\n",
       "         0.36217728,  1.84791957,  1.01300893],\n",
       "       [ 0.24628963, -0.49941338, -0.82799632, -2.49084714,  0.01814502,\n",
       "         0.56864766,  0.73362894, -0.82071924, -0.54472099, -0.29332133,\n",
       "         0.40605066,  1.1134493 ,  0.96524152]])"
      ]
     },
     "execution_count": 23,
     "metadata": {},
     "output_type": "execute_result"
    }
   ],
   "source": [
    "X[0:2]"
   ]
  },
  {
   "cell_type": "markdown",
   "metadata": {},
   "source": [
    "#### Applying PCA"
   ]
  },
  {
   "cell_type": "code",
   "execution_count": 24,
   "metadata": {},
   "outputs": [],
   "source": [
    "from sklearn.decomposition import PCA\n",
    "pca = PCA(n_components = 2)\n",
    "X = pca.fit_transform(X)"
   ]
  },
  {
   "cell_type": "code",
   "execution_count": 25,
   "metadata": {},
   "outputs": [
    {
     "data": {
      "text/plain": [
       "array([[ 3.31675081, -1.44346263],\n",
       "       [ 2.20946492,  0.33339289]])"
      ]
     },
     "execution_count": 25,
     "metadata": {},
     "output_type": "execute_result"
    }
   ],
   "source": [
    "X[0:2]"
   ]
  },
  {
   "cell_type": "code",
   "execution_count": 26,
   "metadata": {},
   "outputs": [
    {
     "data": {
      "text/plain": [
       "array([36.1988481 , 19.20749026])"
      ]
     },
     "execution_count": 26,
     "metadata": {},
     "output_type": "execute_result"
    }
   ],
   "source": [
    "explained_variance = pca.explained_variance_ratio_\n",
    "explained_variance*100"
   ]
  },
  {
   "cell_type": "markdown",
   "metadata": {},
   "source": [
    "### Exporting the results"
   ]
  },
  {
   "cell_type": "code",
   "execution_count": 27,
   "metadata": {},
   "outputs": [
    {
     "data": {
      "text/html": [
       "<div>\n",
       "<style scoped>\n",
       "    .dataframe tbody tr th:only-of-type {\n",
       "        vertical-align: middle;\n",
       "    }\n",
       "\n",
       "    .dataframe tbody tr th {\n",
       "        vertical-align: top;\n",
       "    }\n",
       "\n",
       "    .dataframe thead th {\n",
       "        text-align: right;\n",
       "    }\n",
       "</style>\n",
       "<table border=\"1\" class=\"dataframe\">\n",
       "  <thead>\n",
       "    <tr style=\"text-align: right;\">\n",
       "      <th></th>\n",
       "      <th>0</th>\n",
       "      <th>1</th>\n",
       "    </tr>\n",
       "  </thead>\n",
       "  <tbody>\n",
       "    <tr>\n",
       "      <th>0</th>\n",
       "      <td>3.316751</td>\n",
       "      <td>-1.443463</td>\n",
       "    </tr>\n",
       "    <tr>\n",
       "      <th>1</th>\n",
       "      <td>2.209465</td>\n",
       "      <td>0.333393</td>\n",
       "    </tr>\n",
       "  </tbody>\n",
       "</table>\n",
       "</div>"
      ],
      "text/plain": [
       "          0         1\n",
       "0  3.316751 -1.443463\n",
       "1  2.209465  0.333393"
      ]
     },
     "execution_count": 27,
     "metadata": {},
     "output_type": "execute_result"
    }
   ],
   "source": [
    "features = pd.DataFrame(X)\n",
    "features.to_csv('features.csv')\n",
    "features.head(2)"
   ]
  },
  {
   "cell_type": "code",
   "execution_count": 28,
   "metadata": {},
   "outputs": [
    {
     "data": {
      "text/html": [
       "<div>\n",
       "<style scoped>\n",
       "    .dataframe tbody tr th:only-of-type {\n",
       "        vertical-align: middle;\n",
       "    }\n",
       "\n",
       "    .dataframe tbody tr th {\n",
       "        vertical-align: top;\n",
       "    }\n",
       "\n",
       "    .dataframe thead th {\n",
       "        text-align: right;\n",
       "    }\n",
       "</style>\n",
       "<table border=\"1\" class=\"dataframe\">\n",
       "  <thead>\n",
       "    <tr style=\"text-align: right;\">\n",
       "      <th></th>\n",
       "      <th>0</th>\n",
       "    </tr>\n",
       "  </thead>\n",
       "  <tbody>\n",
       "    <tr>\n",
       "      <th>0</th>\n",
       "      <td>1</td>\n",
       "    </tr>\n",
       "    <tr>\n",
       "      <th>1</th>\n",
       "      <td>1</td>\n",
       "    </tr>\n",
       "  </tbody>\n",
       "</table>\n",
       "</div>"
      ],
      "text/plain": [
       "   0\n",
       "0  1\n",
       "1  1"
      ]
     },
     "execution_count": 28,
     "metadata": {},
     "output_type": "execute_result"
    }
   ],
   "source": [
    "\n",
    "target = pd.DataFrame(y)\n",
    "target.to_csv('target.csv')\n",
    "target[0:2]\n"
   ]
  },
  {
   "cell_type": "code",
   "execution_count": 29,
   "metadata": {},
   "outputs": [
    {
     "data": {
      "text/plain": [
       "array([[-1.44346263],\n",
       "       [ 0.33339289]])"
      ]
     },
     "execution_count": 29,
     "metadata": {},
     "output_type": "execute_result"
    }
   ],
   "source": [
    "Xx = features.iloc[:,1:].values\n",
    "Xx[0:2]"
   ]
  },
  {
   "cell_type": "code",
   "execution_count": 30,
   "metadata": {},
   "outputs": [
    {
     "data": {
      "text/plain": [
       "array([1, 1, 1, 1, 1])"
      ]
     },
     "execution_count": 30,
     "metadata": {},
     "output_type": "execute_result"
    }
   ],
   "source": [
    "yy = target[0].values\n",
    "yy[0:5]"
   ]
  },
  {
   "cell_type": "markdown",
   "metadata": {},
   "source": [
    "### Splitting the X and y into the Training set and Test set"
   ]
  },
  {
   "cell_type": "code",
   "execution_count": 31,
   "metadata": {},
   "outputs": [],
   "source": [
    "from sklearn.model_selection import train_test_split\n",
    "X_train, X_test, y_train, y_test = train_test_split(Xx, yy, test_size = 0.2, random_state = 0)"
   ]
  },
  {
   "cell_type": "markdown",
   "metadata": {},
   "source": [
    "### Fitting Logistic Regression to the Training set"
   ]
  },
  {
   "cell_type": "code",
   "execution_count": 32,
   "metadata": {},
   "outputs": [
    {
     "data": {
      "text/plain": [
       "LogisticRegression(C=1.0, class_weight=None, dual=False, fit_intercept=True,\n",
       "          intercept_scaling=1, max_iter=100, multi_class='ovr', n_jobs=1,\n",
       "          penalty='l2', random_state=0, solver='liblinear', tol=0.0001,\n",
       "          verbose=0, warm_start=False)"
      ]
     },
     "execution_count": 32,
     "metadata": {},
     "output_type": "execute_result"
    }
   ],
   "source": [
    "from sklearn.linear_model import LogisticRegression\n",
    "classifier = LogisticRegression(random_state = 0)\n",
    "classifier.fit(X_train, y_train)"
   ]
  },
  {
   "cell_type": "markdown",
   "metadata": {},
   "source": [
    "### Predicting the Test set results"
   ]
  },
  {
   "cell_type": "code",
   "execution_count": 33,
   "metadata": {},
   "outputs": [
    {
     "data": {
      "text/plain": [
       "array([3, 3, 2, 3, 2])"
      ]
     },
     "execution_count": 33,
     "metadata": {},
     "output_type": "execute_result"
    }
   ],
   "source": [
    "y_pred = classifier.predict(X_test)\n",
    "y_pred[0:5]"
   ]
  },
  {
   "cell_type": "markdown",
   "metadata": {},
   "source": [
    "### Making the Confusion Matrix"
   ]
  },
  {
   "cell_type": "code",
   "execution_count": 34,
   "metadata": {},
   "outputs": [
    {
     "data": {
      "text/plain": [
       "array([[ 5,  1,  8],\n",
       "       [ 1, 15,  0],\n",
       "       [ 3,  0,  3]])"
      ]
     },
     "execution_count": 34,
     "metadata": {},
     "output_type": "execute_result"
    }
   ],
   "source": [
    "from sklearn.metrics import confusion_matrix\n",
    "cm = confusion_matrix(y_test, y_pred)\n",
    "cm"
   ]
  },
  {
   "cell_type": "code",
   "execution_count": 35,
   "metadata": {},
   "outputs": [],
   "source": [
    "from sklearn.metrics import accuracy_score"
   ]
  },
  {
   "cell_type": "code",
   "execution_count": 36,
   "metadata": {},
   "outputs": [
    {
     "data": {
      "text/plain": [
       "0.6388888888888888"
      ]
     },
     "execution_count": 36,
     "metadata": {},
     "output_type": "execute_result"
    }
   ],
   "source": [
    "accuracy_score(y_test, y_pred)"
   ]
  },
  {
   "cell_type": "code",
   "execution_count": 37,
   "metadata": {},
   "outputs": [
    {
     "data": {
      "text/plain": [
       "23"
      ]
     },
     "execution_count": 37,
     "metadata": {},
     "output_type": "execute_result"
    }
   ],
   "source": [
    "accuracy_score(y_test, y_pred, normalize=False)"
   ]
  },
  {
   "cell_type": "markdown",
   "metadata": {},
   "source": [
    "### PCA on different variables"
   ]
  },
  {
   "cell_type": "code",
   "execution_count": 38,
   "metadata": {},
   "outputs": [
    {
     "data": {
      "text/plain": [
       "array([[13,  1,  0],\n",
       "       [ 2, 14,  0],\n",
       "       [ 4,  1,  1]])"
      ]
     },
     "execution_count": 38,
     "metadata": {},
     "output_type": "execute_result"
    }
   ],
   "source": [
    "from sklearn.preprocessing import StandardScaler\n",
    "from sklearn.decomposition import PCA\n",
    "from sklearn.model_selection import train_test_split\n",
    "from sklearn.linear_model import LogisticRegression\n",
    "from sklearn.metrics import confusion_matrix\n",
    "from sklearn.metrics import accuracy_score\n",
    "\n",
    "X = dataset.iloc[:, 0:11].values  #Explanatory variables\n",
    "y = dataset.iloc[:, 13].values  #Target variable\n",
    "\n",
    "sc = StandardScaler()\n",
    "X = sc.fit_transform(X)\n",
    "\n",
    "\n",
    "pca = PCA(n_components = 2)\n",
    "X = pca.fit_transform(X)\n",
    "\n",
    "explained_variance = pca.explained_variance_ratio_\n",
    "explained_variance*100\n",
    "\n",
    "features = pd.DataFrame(X)\n",
    "target = pd.DataFrame(y)\n",
    "\n",
    "Xx = features.iloc[:,1:].values\n",
    "yy = target[0].values\n",
    "\n",
    "\n",
    "X_train, X_test, y_train, y_test = train_test_split(Xx, yy, test_size = 0.2, random_state = 0)\n",
    "\n",
    "\n",
    "classifier = LogisticRegression(random_state = 0)\n",
    "classifier.fit(X_train, y_train)\n",
    "\n",
    "y_pred = classifier.predict(X_test)\n",
    "\n",
    "\n",
    "cm = confusion_matrix(y_test, y_pred)\n",
    "cm"
   ]
  },
  {
   "cell_type": "code",
   "execution_count": 39,
   "metadata": {},
   "outputs": [
    {
     "data": {
      "text/plain": [
       "0.7777777777777778"
      ]
     },
     "execution_count": 39,
     "metadata": {},
     "output_type": "execute_result"
    }
   ],
   "source": [
    "accuracy_score(y_test, y_pred)"
   ]
  },
  {
   "cell_type": "markdown",
   "metadata": {},
   "source": [
    "## Now trying values Alcohol to 6 (Flavanoids)"
   ]
  },
  {
   "cell_type": "code",
   "execution_count": 40,
   "metadata": {},
   "outputs": [
    {
     "data": {
      "text/plain": [
       "0.5555555555555556"
      ]
     },
     "execution_count": 40,
     "metadata": {},
     "output_type": "execute_result"
    }
   ],
   "source": [
    "from sklearn.preprocessing import StandardScaler\n",
    "from sklearn.decomposition import PCA\n",
    "from sklearn.model_selection import train_test_split\n",
    "from sklearn.linear_model import LogisticRegression\n",
    "from sklearn.metrics import confusion_matrix\n",
    "from sklearn.metrics import accuracy_score\n",
    "\n",
    "X = dataset.iloc[:, 0:6].values  #Explanatory variables\n",
    "y = dataset.iloc[:, 13].values  #Target variable\n",
    "\n",
    "sc = StandardScaler()\n",
    "X = sc.fit_transform(X)\n",
    "\n",
    "\n",
    "pca = PCA(n_components = 2)\n",
    "X = pca.fit_transform(X)\n",
    "\n",
    "explained_variance = pca.explained_variance_ratio_\n",
    "explained_variance*100\n",
    "\n",
    "features = pd.DataFrame(X)\n",
    "target = pd.DataFrame(y)\n",
    "\n",
    "Xx = features.iloc[:,1:].values\n",
    "yy = target[0].values\n",
    "\n",
    "\n",
    "X_train, X_test, y_train, y_test = train_test_split(Xx, yy, test_size = 0.2, random_state = 0)\n",
    "\n",
    "\n",
    "classifier = LogisticRegression(random_state = 0)\n",
    "classifier.fit(X_train, y_train)\n",
    "\n",
    "y_pred = classifier.predict(X_test)\n",
    "\n",
    "\n",
    "cm = confusion_matrix(y_test, y_pred)\n",
    "accuracy_score(y_test, y_pred) ##Accuracy has decreased here \n",
    "\n"
   ]
  },
  {
   "cell_type": "code",
   "execution_count": 41,
   "metadata": {},
   "outputs": [
    {
     "data": {
      "text/plain": [
       "0.6944444444444444"
      ]
     },
     "execution_count": 41,
     "metadata": {},
     "output_type": "execute_result"
    }
   ],
   "source": [
    "\n",
    "\n",
    "X = dataset.iloc[:, 1:11].values  #Explanatory variables\n",
    "y = dataset.iloc[:, 13].values  #Target variable\n",
    "\n",
    "sc = StandardScaler()\n",
    "X = sc.fit_transform(X)\n",
    "\n",
    "\n",
    "pca = PCA(n_components = 2)\n",
    "X = pca.fit_transform(X)\n",
    "\n",
    "explained_variance = pca.explained_variance_ratio_\n",
    "explained_variance*100\n",
    "\n",
    "features = pd.DataFrame(X)\n",
    "target = pd.DataFrame(y)\n",
    "\n",
    "Xx = features.iloc[:,1:].values\n",
    "yy = target[0].values\n",
    "\n",
    "\n",
    "X_train, X_test, y_train, y_test = train_test_split(Xx, yy, test_size = 0.2, random_state = 0)\n",
    "\n",
    "\n",
    "classifier = LogisticRegression(random_state = 0)\n",
    "classifier.fit(X_train, y_train)\n",
    "\n",
    "y_pred = classifier.predict(X_test)\n",
    "\n",
    "\n",
    "cm = confusion_matrix(y_test, y_pred)\n",
    "accuracy_score(y_test, y_pred)"
   ]
  },
  {
   "cell_type": "code",
   "execution_count": 42,
   "metadata": {},
   "outputs": [
    {
     "data": {
      "text/plain": [
       "0.7222222222222222"
      ]
     },
     "execution_count": 42,
     "metadata": {},
     "output_type": "execute_result"
    }
   ],
   "source": [
    "\n",
    "X = dataset.iloc[:, 0:13:2].values  #Explanatory variables\n",
    "y = dataset.iloc[:, 13].values  #Target variable\n",
    "\n",
    "sc = StandardScaler()\n",
    "X = sc.fit_transform(X)\n",
    "\n",
    "\n",
    "pca = PCA(n_components = 2)\n",
    "X = pca.fit_transform(X)\n",
    "\n",
    "explained_variance = pca.explained_variance_ratio_\n",
    "explained_variance*100\n",
    "\n",
    "features = pd.DataFrame(X)\n",
    "target = pd.DataFrame(y)\n",
    "\n",
    "Xx = features.iloc[:,1:].values\n",
    "yy = target[0].values\n",
    "\n",
    "\n",
    "X_train, X_test, y_train, y_test = train_test_split(Xx, yy, test_size = 0.2, random_state = 0)\n",
    "\n",
    "\n",
    "classifier = LogisticRegression(random_state = 0)\n",
    "classifier.fit(X_train, y_train)\n",
    "\n",
    "y_pred = classifier.predict(X_test)\n",
    "\n",
    "\n",
    "cm = confusion_matrix(y_test, y_pred)\n",
    "accuracy_score(y_test, y_pred)"
   ]
  },
  {
   "cell_type": "code",
   "execution_count": 43,
   "metadata": {},
   "outputs": [
    {
     "data": {
      "text/plain": [
       "0.6666666666666666"
      ]
     },
     "execution_count": 43,
     "metadata": {},
     "output_type": "execute_result"
    }
   ],
   "source": [
    "\n",
    "X = dataset.iloc[:, 1:12:2].values  #Explanatory variables\n",
    "y = dataset.iloc[:, 13].values  #Target variable\n",
    "\n",
    "sc = StandardScaler()\n",
    "X = sc.fit_transform(X)\n",
    "\n",
    "\n",
    "pca = PCA(n_components = 2)\n",
    "X = pca.fit_transform(X)\n",
    "\n",
    "explained_variance = pca.explained_variance_ratio_\n",
    "explained_variance*100\n",
    "\n",
    "features = pd.DataFrame(X)\n",
    "target = pd.DataFrame(y)\n",
    "\n",
    "Xx = features.iloc[:,1:].values\n",
    "yy = target[0].values\n",
    "\n",
    "\n",
    "X_train, X_test, y_train, y_test = train_test_split(Xx, yy, test_size = 0.2, random_state = 0)\n",
    "\n",
    "\n",
    "classifier = LogisticRegression(random_state = 0)\n",
    "classifier.fit(X_train, y_train)\n",
    "\n",
    "y_pred = classifier.predict(X_test)\n",
    "\n",
    "\n",
    "cm = confusion_matrix(y_test, y_pred)\n",
    "accuracy_score(y_test, y_pred)"
   ]
  },
  {
   "cell_type": "markdown",
   "metadata": {},
   "source": [
    "# Conclusion"
   ]
  },
  {
   "cell_type": "markdown",
   "metadata": {},
   "source": [
    "##### Trying on different variables of chemicals in PCA we got different types of accuracies. \n",
    "we got highest accuracy when we used variables 0 to 11\n",
    "After that second highest accuracy was with variables 0 to 12, leaving one variable out after each\n",
    "\n",
    "PCA is used when we want the accuracy of our model to improve and check which variables are import. "
   ]
  },
  {
   "cell_type": "code",
   "execution_count": null,
   "metadata": {},
   "outputs": [],
   "source": []
  },
  {
   "cell_type": "code",
   "execution_count": null,
   "metadata": {},
   "outputs": [],
   "source": []
  }
 ],
 "metadata": {
  "kernelspec": {
   "display_name": "Python 3",
   "language": "python",
   "name": "python3"
  },
  "language_info": {
   "codemirror_mode": {
    "name": "ipython",
    "version": 3
   },
   "file_extension": ".py",
   "mimetype": "text/x-python",
   "name": "python",
   "nbconvert_exporter": "python",
   "pygments_lexer": "ipython3",
   "version": "3.6.5"
  }
 },
 "nbformat": 4,
 "nbformat_minor": 2
}
